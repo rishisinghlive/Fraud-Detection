{
 "cells": [
  {
   "cell_type": "markdown",
   "id": "662c7dd7",
   "metadata": {},
   "source": [
    "### Dataset: https://www.kaggle.com/ealaxi/banksim1?select=bsNET140513_032310.csv"
   ]
  },
  {
   "cell_type": "code",
   "execution_count": 1,
   "id": "020ad16b",
   "metadata": {},
   "outputs": [],
   "source": [
    "import numpy as np\n",
    "import pandas as pd\n",
    "import matplotlib.pyplot as plt\n",
    "import seaborn as sns\n",
    "from sklearn.model_selection import train_test_split\n",
    "from sklearn.metrics import accuracy_score, confusion_matrix, roc_auc_score\n",
    "from sklearn.linear_model import LogisticRegression\n",
    "from sklearn.metrics import accuracy_score\n",
    "from imblearn.over_sampling import SMOTE"
   ]
  },
  {
   "cell_type": "code",
   "execution_count": 2,
   "id": "86c86815",
   "metadata": {},
   "outputs": [],
   "source": [
    "df = pd.read_csv('bs140513_032310.csv')"
   ]
  },
  {
   "cell_type": "code",
   "execution_count": 3,
   "id": "0bacec98",
   "metadata": {
    "scrolled": true
   },
   "outputs": [
    {
     "data": {
      "text/html": [
       "<div>\n",
       "<style scoped>\n",
       "    .dataframe tbody tr th:only-of-type {\n",
       "        vertical-align: middle;\n",
       "    }\n",
       "\n",
       "    .dataframe tbody tr th {\n",
       "        vertical-align: top;\n",
       "    }\n",
       "\n",
       "    .dataframe thead th {\n",
       "        text-align: right;\n",
       "    }\n",
       "</style>\n",
       "<table border=\"1\" class=\"dataframe\">\n",
       "  <thead>\n",
       "    <tr style=\"text-align: right;\">\n",
       "      <th></th>\n",
       "      <th>step</th>\n",
       "      <th>customer</th>\n",
       "      <th>age</th>\n",
       "      <th>gender</th>\n",
       "      <th>zipcodeOri</th>\n",
       "      <th>merchant</th>\n",
       "      <th>zipMerchant</th>\n",
       "      <th>category</th>\n",
       "      <th>amount</th>\n",
       "      <th>fraud</th>\n",
       "    </tr>\n",
       "  </thead>\n",
       "  <tbody>\n",
       "    <tr>\n",
       "      <th>0</th>\n",
       "      <td>0</td>\n",
       "      <td>'C1093826151'</td>\n",
       "      <td>'4'</td>\n",
       "      <td>'M'</td>\n",
       "      <td>'28007'</td>\n",
       "      <td>'M348934600'</td>\n",
       "      <td>'28007'</td>\n",
       "      <td>'es_transportation'</td>\n",
       "      <td>4.55</td>\n",
       "      <td>0</td>\n",
       "    </tr>\n",
       "    <tr>\n",
       "      <th>1</th>\n",
       "      <td>0</td>\n",
       "      <td>'C352968107'</td>\n",
       "      <td>'2'</td>\n",
       "      <td>'M'</td>\n",
       "      <td>'28007'</td>\n",
       "      <td>'M348934600'</td>\n",
       "      <td>'28007'</td>\n",
       "      <td>'es_transportation'</td>\n",
       "      <td>39.68</td>\n",
       "      <td>0</td>\n",
       "    </tr>\n",
       "    <tr>\n",
       "      <th>2</th>\n",
       "      <td>0</td>\n",
       "      <td>'C2054744914'</td>\n",
       "      <td>'4'</td>\n",
       "      <td>'F'</td>\n",
       "      <td>'28007'</td>\n",
       "      <td>'M1823072687'</td>\n",
       "      <td>'28007'</td>\n",
       "      <td>'es_transportation'</td>\n",
       "      <td>26.89</td>\n",
       "      <td>0</td>\n",
       "    </tr>\n",
       "    <tr>\n",
       "      <th>3</th>\n",
       "      <td>0</td>\n",
       "      <td>'C1760612790'</td>\n",
       "      <td>'3'</td>\n",
       "      <td>'M'</td>\n",
       "      <td>'28007'</td>\n",
       "      <td>'M348934600'</td>\n",
       "      <td>'28007'</td>\n",
       "      <td>'es_transportation'</td>\n",
       "      <td>17.25</td>\n",
       "      <td>0</td>\n",
       "    </tr>\n",
       "    <tr>\n",
       "      <th>4</th>\n",
       "      <td>0</td>\n",
       "      <td>'C757503768'</td>\n",
       "      <td>'5'</td>\n",
       "      <td>'M'</td>\n",
       "      <td>'28007'</td>\n",
       "      <td>'M348934600'</td>\n",
       "      <td>'28007'</td>\n",
       "      <td>'es_transportation'</td>\n",
       "      <td>35.72</td>\n",
       "      <td>0</td>\n",
       "    </tr>\n",
       "  </tbody>\n",
       "</table>\n",
       "</div>"
      ],
      "text/plain": [
       "   step       customer  age gender zipcodeOri       merchant zipMerchant  \\\n",
       "0     0  'C1093826151'  '4'    'M'    '28007'   'M348934600'     '28007'   \n",
       "1     0   'C352968107'  '2'    'M'    '28007'   'M348934600'     '28007'   \n",
       "2     0  'C2054744914'  '4'    'F'    '28007'  'M1823072687'     '28007'   \n",
       "3     0  'C1760612790'  '3'    'M'    '28007'   'M348934600'     '28007'   \n",
       "4     0   'C757503768'  '5'    'M'    '28007'   'M348934600'     '28007'   \n",
       "\n",
       "              category  amount  fraud  \n",
       "0  'es_transportation'    4.55      0  \n",
       "1  'es_transportation'   39.68      0  \n",
       "2  'es_transportation'   26.89      0  \n",
       "3  'es_transportation'   17.25      0  \n",
       "4  'es_transportation'   35.72      0  "
      ]
     },
     "execution_count": 3,
     "metadata": {},
     "output_type": "execute_result"
    }
   ],
   "source": [
    "df.head()"
   ]
  },
  {
   "cell_type": "code",
   "execution_count": 4,
   "id": "b9083b54",
   "metadata": {},
   "outputs": [
    {
     "name": "stdout",
     "output_type": "stream",
     "text": [
      "<class 'pandas.core.frame.DataFrame'>\n",
      "RangeIndex: 594643 entries, 0 to 594642\n",
      "Data columns (total 10 columns):\n",
      " #   Column       Non-Null Count   Dtype  \n",
      "---  ------       --------------   -----  \n",
      " 0   step         594643 non-null  int64  \n",
      " 1   customer     594643 non-null  object \n",
      " 2   age          594643 non-null  object \n",
      " 3   gender       594643 non-null  object \n",
      " 4   zipcodeOri   594643 non-null  object \n",
      " 5   merchant     594643 non-null  object \n",
      " 6   zipMerchant  594643 non-null  object \n",
      " 7   category     594643 non-null  object \n",
      " 8   amount       594643 non-null  float64\n",
      " 9   fraud        594643 non-null  int64  \n",
      "dtypes: float64(1), int64(2), object(7)\n",
      "memory usage: 45.4+ MB\n"
     ]
    }
   ],
   "source": [
    "df.info()"
   ]
  },
  {
   "cell_type": "code",
   "execution_count": 5,
   "id": "c1f5bfce",
   "metadata": {},
   "outputs": [
    {
     "data": {
      "text/plain": [
       "step             180\n",
       "customer        4112\n",
       "age                8\n",
       "gender             4\n",
       "zipcodeOri         1\n",
       "merchant          50\n",
       "zipMerchant        1\n",
       "category          15\n",
       "amount         23767\n",
       "fraud              2\n",
       "dtype: int64"
      ]
     },
     "execution_count": 5,
     "metadata": {},
     "output_type": "execute_result"
    }
   ],
   "source": [
    "df.nunique()"
   ]
  },
  {
   "cell_type": "code",
   "execution_count": 6,
   "id": "be97a7f1",
   "metadata": {},
   "outputs": [
    {
     "data": {
      "text/plain": [
       "0    587443\n",
       "1      7200\n",
       "Name: fraud, dtype: int64"
      ]
     },
     "execution_count": 6,
     "metadata": {},
     "output_type": "execute_result"
    }
   ],
   "source": [
    "df['fraud'].value_counts()"
   ]
  },
  {
   "cell_type": "code",
   "execution_count": 7,
   "id": "e5d1d4eb",
   "metadata": {},
   "outputs": [
    {
     "data": {
      "text/html": [
       "<div>\n",
       "<style scoped>\n",
       "    .dataframe tbody tr th:only-of-type {\n",
       "        vertical-align: middle;\n",
       "    }\n",
       "\n",
       "    .dataframe tbody tr th {\n",
       "        vertical-align: top;\n",
       "    }\n",
       "\n",
       "    .dataframe thead th {\n",
       "        text-align: right;\n",
       "    }\n",
       "</style>\n",
       "<table border=\"1\" class=\"dataframe\">\n",
       "  <thead>\n",
       "    <tr style=\"text-align: right;\">\n",
       "      <th></th>\n",
       "      <th>step</th>\n",
       "      <th>customer</th>\n",
       "      <th>age</th>\n",
       "      <th>gender</th>\n",
       "      <th>zipcodeOri</th>\n",
       "      <th>merchant</th>\n",
       "      <th>zipMerchant</th>\n",
       "      <th>category</th>\n",
       "      <th>amount</th>\n",
       "      <th>fraud</th>\n",
       "    </tr>\n",
       "  </thead>\n",
       "  <tbody>\n",
       "    <tr>\n",
       "      <th>594633</th>\n",
       "      <td>179</td>\n",
       "      <td>'C1039390058'</td>\n",
       "      <td>'4'</td>\n",
       "      <td>'M'</td>\n",
       "      <td>'28007'</td>\n",
       "      <td>'M45060432'</td>\n",
       "      <td>'28007'</td>\n",
       "      <td>'es_hotelservices'</td>\n",
       "      <td>190.31</td>\n",
       "      <td>0</td>\n",
       "    </tr>\n",
       "    <tr>\n",
       "      <th>594634</th>\n",
       "      <td>179</td>\n",
       "      <td>'C728039227'</td>\n",
       "      <td>'6'</td>\n",
       "      <td>'M'</td>\n",
       "      <td>'28007'</td>\n",
       "      <td>'M348934600'</td>\n",
       "      <td>'28007'</td>\n",
       "      <td>'es_transportation'</td>\n",
       "      <td>27.93</td>\n",
       "      <td>0</td>\n",
       "    </tr>\n",
       "    <tr>\n",
       "      <th>594635</th>\n",
       "      <td>179</td>\n",
       "      <td>'C728039227'</td>\n",
       "      <td>'6'</td>\n",
       "      <td>'M'</td>\n",
       "      <td>'28007'</td>\n",
       "      <td>'M1823072687'</td>\n",
       "      <td>'28007'</td>\n",
       "      <td>'es_transportation'</td>\n",
       "      <td>30.04</td>\n",
       "      <td>0</td>\n",
       "    </tr>\n",
       "    <tr>\n",
       "      <th>594636</th>\n",
       "      <td>179</td>\n",
       "      <td>'C1904086644'</td>\n",
       "      <td>'5'</td>\n",
       "      <td>'F'</td>\n",
       "      <td>'28007'</td>\n",
       "      <td>'M1823072687'</td>\n",
       "      <td>'28007'</td>\n",
       "      <td>'es_transportation'</td>\n",
       "      <td>28.93</td>\n",
       "      <td>0</td>\n",
       "    </tr>\n",
       "    <tr>\n",
       "      <th>594637</th>\n",
       "      <td>179</td>\n",
       "      <td>'C748358246'</td>\n",
       "      <td>'2'</td>\n",
       "      <td>'M'</td>\n",
       "      <td>'28007'</td>\n",
       "      <td>'M1823072687'</td>\n",
       "      <td>'28007'</td>\n",
       "      <td>'es_transportation'</td>\n",
       "      <td>51.17</td>\n",
       "      <td>0</td>\n",
       "    </tr>\n",
       "    <tr>\n",
       "      <th>594638</th>\n",
       "      <td>179</td>\n",
       "      <td>'C1753498738'</td>\n",
       "      <td>'3'</td>\n",
       "      <td>'F'</td>\n",
       "      <td>'28007'</td>\n",
       "      <td>'M1823072687'</td>\n",
       "      <td>'28007'</td>\n",
       "      <td>'es_transportation'</td>\n",
       "      <td>20.53</td>\n",
       "      <td>0</td>\n",
       "    </tr>\n",
       "    <tr>\n",
       "      <th>594639</th>\n",
       "      <td>179</td>\n",
       "      <td>'C650108285'</td>\n",
       "      <td>'4'</td>\n",
       "      <td>'F'</td>\n",
       "      <td>'28007'</td>\n",
       "      <td>'M1823072687'</td>\n",
       "      <td>'28007'</td>\n",
       "      <td>'es_transportation'</td>\n",
       "      <td>50.73</td>\n",
       "      <td>0</td>\n",
       "    </tr>\n",
       "    <tr>\n",
       "      <th>594640</th>\n",
       "      <td>179</td>\n",
       "      <td>'C123623130'</td>\n",
       "      <td>'2'</td>\n",
       "      <td>'F'</td>\n",
       "      <td>'28007'</td>\n",
       "      <td>'M349281107'</td>\n",
       "      <td>'28007'</td>\n",
       "      <td>'es_fashion'</td>\n",
       "      <td>22.44</td>\n",
       "      <td>0</td>\n",
       "    </tr>\n",
       "    <tr>\n",
       "      <th>594641</th>\n",
       "      <td>179</td>\n",
       "      <td>'C1499363341'</td>\n",
       "      <td>'5'</td>\n",
       "      <td>'M'</td>\n",
       "      <td>'28007'</td>\n",
       "      <td>'M1823072687'</td>\n",
       "      <td>'28007'</td>\n",
       "      <td>'es_transportation'</td>\n",
       "      <td>14.46</td>\n",
       "      <td>0</td>\n",
       "    </tr>\n",
       "    <tr>\n",
       "      <th>594642</th>\n",
       "      <td>179</td>\n",
       "      <td>'C616528518'</td>\n",
       "      <td>'4'</td>\n",
       "      <td>'F'</td>\n",
       "      <td>'28007'</td>\n",
       "      <td>'M1823072687'</td>\n",
       "      <td>'28007'</td>\n",
       "      <td>'es_transportation'</td>\n",
       "      <td>26.93</td>\n",
       "      <td>0</td>\n",
       "    </tr>\n",
       "  </tbody>\n",
       "</table>\n",
       "</div>"
      ],
      "text/plain": [
       "        step       customer  age gender zipcodeOri       merchant zipMerchant  \\\n",
       "594633   179  'C1039390058'  '4'    'M'    '28007'    'M45060432'     '28007'   \n",
       "594634   179   'C728039227'  '6'    'M'    '28007'   'M348934600'     '28007'   \n",
       "594635   179   'C728039227'  '6'    'M'    '28007'  'M1823072687'     '28007'   \n",
       "594636   179  'C1904086644'  '5'    'F'    '28007'  'M1823072687'     '28007'   \n",
       "594637   179   'C748358246'  '2'    'M'    '28007'  'M1823072687'     '28007'   \n",
       "594638   179  'C1753498738'  '3'    'F'    '28007'  'M1823072687'     '28007'   \n",
       "594639   179   'C650108285'  '4'    'F'    '28007'  'M1823072687'     '28007'   \n",
       "594640   179   'C123623130'  '2'    'F'    '28007'   'M349281107'     '28007'   \n",
       "594641   179  'C1499363341'  '5'    'M'    '28007'  'M1823072687'     '28007'   \n",
       "594642   179   'C616528518'  '4'    'F'    '28007'  'M1823072687'     '28007'   \n",
       "\n",
       "                   category  amount  fraud  \n",
       "594633   'es_hotelservices'  190.31      0  \n",
       "594634  'es_transportation'   27.93      0  \n",
       "594635  'es_transportation'   30.04      0  \n",
       "594636  'es_transportation'   28.93      0  \n",
       "594637  'es_transportation'   51.17      0  \n",
       "594638  'es_transportation'   20.53      0  \n",
       "594639  'es_transportation'   50.73      0  \n",
       "594640         'es_fashion'   22.44      0  \n",
       "594641  'es_transportation'   14.46      0  \n",
       "594642  'es_transportation'   26.93      0  "
      ]
     },
     "execution_count": 7,
     "metadata": {},
     "output_type": "execute_result"
    }
   ],
   "source": [
    "df.tail(10)"
   ]
  },
  {
   "cell_type": "code",
   "execution_count": 8,
   "id": "8790e90c",
   "metadata": {},
   "outputs": [
    {
     "data": {
      "text/plain": [
       "'2'    187310\n",
       "'3'    147131\n",
       "'4'    109025\n",
       "'5'     62642\n",
       "'1'     58131\n",
       "'6'     26774\n",
       "'0'      2452\n",
       "'U'      1178\n",
       "Name: age, dtype: int64"
      ]
     },
     "execution_count": 8,
     "metadata": {},
     "output_type": "execute_result"
    }
   ],
   "source": [
    "df['age'].value_counts()"
   ]
  },
  {
   "cell_type": "code",
   "execution_count": 9,
   "id": "4d63ed27",
   "metadata": {},
   "outputs": [
    {
     "data": {
      "text/plain": [
       "'F'    324565\n",
       "'M'    268385\n",
       "'E'      1178\n",
       "'U'       515\n",
       "Name: gender, dtype: int64"
      ]
     },
     "execution_count": 9,
     "metadata": {},
     "output_type": "execute_result"
    }
   ],
   "source": [
    "df['gender'].value_counts()"
   ]
  },
  {
   "cell_type": "markdown",
   "id": "e7e8a2ae",
   "metadata": {},
   "source": [
    "#### Step: Step Ranges from 0 to 179 where 0 standas fro day 1 and 179 stands for 180th day\n",
    "#### Customer: It refres to Customer Id the data set has 4112 unique customer\n",
    "#### Age: Category of age group where \n",
    "  * 0: <= 18 Years,\n",
    "  * 1: = 19-25,\n",
    "  * 2: = 26-35,\n",
    "  * 3: = 36-45,\n",
    "  * 4: = 46-55,\n",
    "  * 5: = 56-65,\n",
    "  * 6: = Above 65\n",
    "  * U: = Unknown\n",
    "#### Gender: Gender of the customer\n",
    "#### ZipcodeOri: Zipcode of customer\n",
    "#### Merchant: Refers to Merchent Id there are total 50 unique merchants.\n",
    "#### ZipMerchant: Zipcode of Merchant. The zipcode of all customer and The zipcode of all merchant is same\n",
    "#### Category: Category of purchase, There total 15 cateogry\n",
    "#### Amount: Amount spent on Purchase\n",
    "#### Fraud: The Transection was fraud or not.\n",
    "### There are total 594642 Transetions in which only 7200 was fraud."
   ]
  },
  {
   "cell_type": "code",
   "execution_count": 10,
   "id": "a85c266f",
   "metadata": {},
   "outputs": [],
   "source": [
    "df_fraud = df[df['fraud']==1]"
   ]
  },
  {
   "cell_type": "code",
   "execution_count": 11,
   "id": "6c85cd94",
   "metadata": {},
   "outputs": [],
   "source": [
    "df_non_fraud = df[df['fraud']==0]"
   ]
  },
  {
   "cell_type": "code",
   "execution_count": 12,
   "id": "5216ddba",
   "metadata": {},
   "outputs": [
    {
     "data": {
      "text/html": [
       "<div>\n",
       "<style scoped>\n",
       "    .dataframe tbody tr th:only-of-type {\n",
       "        vertical-align: middle;\n",
       "    }\n",
       "\n",
       "    .dataframe tbody tr th {\n",
       "        vertical-align: top;\n",
       "    }\n",
       "\n",
       "    .dataframe thead th {\n",
       "        text-align: right;\n",
       "    }\n",
       "</style>\n",
       "<table border=\"1\" class=\"dataframe\">\n",
       "  <thead>\n",
       "    <tr style=\"text-align: right;\">\n",
       "      <th></th>\n",
       "      <th>step</th>\n",
       "      <th>amount</th>\n",
       "      <th>fraud</th>\n",
       "    </tr>\n",
       "  </thead>\n",
       "  <tbody>\n",
       "    <tr>\n",
       "      <th>count</th>\n",
       "      <td>7200.000000</td>\n",
       "      <td>7200.000000</td>\n",
       "      <td>7200.0</td>\n",
       "    </tr>\n",
       "    <tr>\n",
       "      <th>mean</th>\n",
       "      <td>89.500000</td>\n",
       "      <td>530.926551</td>\n",
       "      <td>1.0</td>\n",
       "    </tr>\n",
       "    <tr>\n",
       "      <th>std</th>\n",
       "      <td>51.964331</td>\n",
       "      <td>835.587112</td>\n",
       "      <td>0.0</td>\n",
       "    </tr>\n",
       "    <tr>\n",
       "      <th>min</th>\n",
       "      <td>0.000000</td>\n",
       "      <td>0.030000</td>\n",
       "      <td>1.0</td>\n",
       "    </tr>\n",
       "    <tr>\n",
       "      <th>25%</th>\n",
       "      <td>44.750000</td>\n",
       "      <td>159.980000</td>\n",
       "      <td>1.0</td>\n",
       "    </tr>\n",
       "    <tr>\n",
       "      <th>50%</th>\n",
       "      <td>89.500000</td>\n",
       "      <td>319.175000</td>\n",
       "      <td>1.0</td>\n",
       "    </tr>\n",
       "    <tr>\n",
       "      <th>75%</th>\n",
       "      <td>134.250000</td>\n",
       "      <td>548.977500</td>\n",
       "      <td>1.0</td>\n",
       "    </tr>\n",
       "    <tr>\n",
       "      <th>max</th>\n",
       "      <td>179.000000</td>\n",
       "      <td>8329.960000</td>\n",
       "      <td>1.0</td>\n",
       "    </tr>\n",
       "  </tbody>\n",
       "</table>\n",
       "</div>"
      ],
      "text/plain": [
       "              step       amount   fraud\n",
       "count  7200.000000  7200.000000  7200.0\n",
       "mean     89.500000   530.926551     1.0\n",
       "std      51.964331   835.587112     0.0\n",
       "min       0.000000     0.030000     1.0\n",
       "25%      44.750000   159.980000     1.0\n",
       "50%      89.500000   319.175000     1.0\n",
       "75%     134.250000   548.977500     1.0\n",
       "max     179.000000  8329.960000     1.0"
      ]
     },
     "execution_count": 12,
     "metadata": {},
     "output_type": "execute_result"
    }
   ],
   "source": [
    "df_fraud.describe()"
   ]
  },
  {
   "cell_type": "code",
   "execution_count": 13,
   "id": "26e82860",
   "metadata": {},
   "outputs": [
    {
     "data": {
      "text/html": [
       "<div>\n",
       "<style scoped>\n",
       "    .dataframe tbody tr th:only-of-type {\n",
       "        vertical-align: middle;\n",
       "    }\n",
       "\n",
       "    .dataframe tbody tr th {\n",
       "        vertical-align: top;\n",
       "    }\n",
       "\n",
       "    .dataframe thead th {\n",
       "        text-align: right;\n",
       "    }\n",
       "</style>\n",
       "<table border=\"1\" class=\"dataframe\">\n",
       "  <thead>\n",
       "    <tr style=\"text-align: right;\">\n",
       "      <th></th>\n",
       "      <th>step</th>\n",
       "      <th>amount</th>\n",
       "      <th>fraud</th>\n",
       "    </tr>\n",
       "  </thead>\n",
       "  <tbody>\n",
       "    <tr>\n",
       "      <th>count</th>\n",
       "      <td>587443.000000</td>\n",
       "      <td>587443.000000</td>\n",
       "      <td>587443.0</td>\n",
       "    </tr>\n",
       "    <tr>\n",
       "      <th>mean</th>\n",
       "      <td>95.054077</td>\n",
       "      <td>31.847230</td>\n",
       "      <td>0.0</td>\n",
       "    </tr>\n",
       "    <tr>\n",
       "      <th>std</th>\n",
       "      <td>51.038755</td>\n",
       "      <td>31.470876</td>\n",
       "      <td>0.0</td>\n",
       "    </tr>\n",
       "    <tr>\n",
       "      <th>min</th>\n",
       "      <td>0.000000</td>\n",
       "      <td>0.000000</td>\n",
       "      <td>0.0</td>\n",
       "    </tr>\n",
       "    <tr>\n",
       "      <th>25%</th>\n",
       "      <td>52.000000</td>\n",
       "      <td>13.590000</td>\n",
       "      <td>0.0</td>\n",
       "    </tr>\n",
       "    <tr>\n",
       "      <th>50%</th>\n",
       "      <td>97.000000</td>\n",
       "      <td>26.610000</td>\n",
       "      <td>0.0</td>\n",
       "    </tr>\n",
       "    <tr>\n",
       "      <th>75%</th>\n",
       "      <td>139.000000</td>\n",
       "      <td>41.895000</td>\n",
       "      <td>0.0</td>\n",
       "    </tr>\n",
       "    <tr>\n",
       "      <th>max</th>\n",
       "      <td>179.000000</td>\n",
       "      <td>2144.860000</td>\n",
       "      <td>0.0</td>\n",
       "    </tr>\n",
       "  </tbody>\n",
       "</table>\n",
       "</div>"
      ],
      "text/plain": [
       "                step         amount     fraud\n",
       "count  587443.000000  587443.000000  587443.0\n",
       "mean       95.054077      31.847230       0.0\n",
       "std        51.038755      31.470876       0.0\n",
       "min         0.000000       0.000000       0.0\n",
       "25%        52.000000      13.590000       0.0\n",
       "50%        97.000000      26.610000       0.0\n",
       "75%       139.000000      41.895000       0.0\n",
       "max       179.000000    2144.860000       0.0"
      ]
     },
     "execution_count": 13,
     "metadata": {},
     "output_type": "execute_result"
    }
   ],
   "source": [
    "df_non_fraud.describe()"
   ]
  },
  {
   "cell_type": "markdown",
   "id": "c0873f0c",
   "metadata": {},
   "source": [
    "#### The mean price of fraud Transection is Heigher than Non_fraud Transection"
   ]
  },
  {
   "cell_type": "code",
   "execution_count": 14,
   "id": "73062fb4",
   "metadata": {},
   "outputs": [
    {
     "name": "stderr",
     "output_type": "stream",
     "text": [
      "C:\\Users\\rishi\\AppData\\Local\\Temp/ipykernel_10848/2341263384.py:1: FutureWarning: Indexing with multiple keys (implicitly converted to a tuple of keys) will be deprecated, use a list instead.\n",
      "  category_wise_fraud = df.groupby('category')['amount','fraud'].mean().sort_values('fraud', ascending=False)\n"
     ]
    }
   ],
   "source": [
    "category_wise_fraud = df.groupby('category')['amount','fraud'].mean().sort_values('fraud', ascending=False)"
   ]
  },
  {
   "cell_type": "code",
   "execution_count": 15,
   "id": "cf5da54d",
   "metadata": {},
   "outputs": [],
   "source": [
    "category_wise_fraud.reset_index(inplace=True)"
   ]
  },
  {
   "cell_type": "code",
   "execution_count": 16,
   "id": "a987fe52",
   "metadata": {},
   "outputs": [
    {
     "data": {
      "text/html": [
       "<div>\n",
       "<style scoped>\n",
       "    .dataframe tbody tr th:only-of-type {\n",
       "        vertical-align: middle;\n",
       "    }\n",
       "\n",
       "    .dataframe tbody tr th {\n",
       "        vertical-align: top;\n",
       "    }\n",
       "\n",
       "    .dataframe thead th {\n",
       "        text-align: right;\n",
       "    }\n",
       "</style>\n",
       "<table border=\"1\" class=\"dataframe\">\n",
       "  <thead>\n",
       "    <tr style=\"text-align: right;\">\n",
       "      <th></th>\n",
       "      <th>category</th>\n",
       "      <th>amount</th>\n",
       "      <th>fraud</th>\n",
       "    </tr>\n",
       "  </thead>\n",
       "  <tbody>\n",
       "    <tr>\n",
       "      <th>0</th>\n",
       "      <td>'es_leisure'</td>\n",
       "      <td>288.911303</td>\n",
       "      <td>0.949900</td>\n",
       "    </tr>\n",
       "    <tr>\n",
       "      <th>1</th>\n",
       "      <td>'es_travel'</td>\n",
       "      <td>2250.409190</td>\n",
       "      <td>0.793956</td>\n",
       "    </tr>\n",
       "    <tr>\n",
       "      <th>2</th>\n",
       "      <td>'es_sportsandtoys'</td>\n",
       "      <td>215.715280</td>\n",
       "      <td>0.495252</td>\n",
       "    </tr>\n",
       "    <tr>\n",
       "      <th>3</th>\n",
       "      <td>'es_hotelservices'</td>\n",
       "      <td>205.614249</td>\n",
       "      <td>0.314220</td>\n",
       "    </tr>\n",
       "    <tr>\n",
       "      <th>4</th>\n",
       "      <td>'es_otherservices'</td>\n",
       "      <td>135.881524</td>\n",
       "      <td>0.250000</td>\n",
       "    </tr>\n",
       "    <tr>\n",
       "      <th>5</th>\n",
       "      <td>'es_home'</td>\n",
       "      <td>165.670846</td>\n",
       "      <td>0.152064</td>\n",
       "    </tr>\n",
       "    <tr>\n",
       "      <th>6</th>\n",
       "      <td>'es_health'</td>\n",
       "      <td>135.621367</td>\n",
       "      <td>0.105126</td>\n",
       "    </tr>\n",
       "    <tr>\n",
       "      <th>7</th>\n",
       "      <td>'es_tech'</td>\n",
       "      <td>120.947937</td>\n",
       "      <td>0.066667</td>\n",
       "    </tr>\n",
       "    <tr>\n",
       "      <th>8</th>\n",
       "      <td>'es_wellnessandbeauty'</td>\n",
       "      <td>65.511221</td>\n",
       "      <td>0.047594</td>\n",
       "    </tr>\n",
       "    <tr>\n",
       "      <th>9</th>\n",
       "      <td>'es_hyper'</td>\n",
       "      <td>45.970421</td>\n",
       "      <td>0.045917</td>\n",
       "    </tr>\n",
       "    <tr>\n",
       "      <th>10</th>\n",
       "      <td>'es_barsandrestaurants'</td>\n",
       "      <td>43.461014</td>\n",
       "      <td>0.018829</td>\n",
       "    </tr>\n",
       "    <tr>\n",
       "      <th>11</th>\n",
       "      <td>'es_fashion'</td>\n",
       "      <td>65.666642</td>\n",
       "      <td>0.017973</td>\n",
       "    </tr>\n",
       "    <tr>\n",
       "      <th>12</th>\n",
       "      <td>'es_contents'</td>\n",
       "      <td>44.547571</td>\n",
       "      <td>0.000000</td>\n",
       "    </tr>\n",
       "    <tr>\n",
       "      <th>13</th>\n",
       "      <td>'es_food'</td>\n",
       "      <td>37.070405</td>\n",
       "      <td>0.000000</td>\n",
       "    </tr>\n",
       "    <tr>\n",
       "      <th>14</th>\n",
       "      <td>'es_transportation'</td>\n",
       "      <td>26.958187</td>\n",
       "      <td>0.000000</td>\n",
       "    </tr>\n",
       "  </tbody>\n",
       "</table>\n",
       "</div>"
      ],
      "text/plain": [
       "                   category       amount     fraud\n",
       "0              'es_leisure'   288.911303  0.949900\n",
       "1               'es_travel'  2250.409190  0.793956\n",
       "2        'es_sportsandtoys'   215.715280  0.495252\n",
       "3        'es_hotelservices'   205.614249  0.314220\n",
       "4        'es_otherservices'   135.881524  0.250000\n",
       "5                 'es_home'   165.670846  0.152064\n",
       "6               'es_health'   135.621367  0.105126\n",
       "7                 'es_tech'   120.947937  0.066667\n",
       "8    'es_wellnessandbeauty'    65.511221  0.047594\n",
       "9                'es_hyper'    45.970421  0.045917\n",
       "10  'es_barsandrestaurants'    43.461014  0.018829\n",
       "11             'es_fashion'    65.666642  0.017973\n",
       "12            'es_contents'    44.547571  0.000000\n",
       "13                'es_food'    37.070405  0.000000\n",
       "14      'es_transportation'    26.958187  0.000000"
      ]
     },
     "execution_count": 16,
     "metadata": {},
     "output_type": "execute_result"
    }
   ],
   "source": [
    "category_wise_fraud"
   ]
  },
  {
   "cell_type": "code",
   "execution_count": 17,
   "id": "ffc56a99",
   "metadata": {},
   "outputs": [],
   "source": [
    "count_by_category = pd.DataFrame(df['category'].value_counts())"
   ]
  },
  {
   "cell_type": "code",
   "execution_count": 18,
   "id": "a6f89ba0",
   "metadata": {},
   "outputs": [],
   "source": [
    "count_by_category.reset_index(inplace=True)"
   ]
  },
  {
   "cell_type": "code",
   "execution_count": 19,
   "id": "42900975",
   "metadata": {},
   "outputs": [
    {
     "data": {
      "text/html": [
       "<div>\n",
       "<style scoped>\n",
       "    .dataframe tbody tr th:only-of-type {\n",
       "        vertical-align: middle;\n",
       "    }\n",
       "\n",
       "    .dataframe tbody tr th {\n",
       "        vertical-align: top;\n",
       "    }\n",
       "\n",
       "    .dataframe thead th {\n",
       "        text-align: right;\n",
       "    }\n",
       "</style>\n",
       "<table border=\"1\" class=\"dataframe\">\n",
       "  <thead>\n",
       "    <tr style=\"text-align: right;\">\n",
       "      <th></th>\n",
       "      <th>category</th>\n",
       "      <th>count</th>\n",
       "    </tr>\n",
       "  </thead>\n",
       "  <tbody>\n",
       "    <tr>\n",
       "      <th>0</th>\n",
       "      <td>'es_transportation'</td>\n",
       "      <td>505119</td>\n",
       "    </tr>\n",
       "    <tr>\n",
       "      <th>1</th>\n",
       "      <td>'es_food'</td>\n",
       "      <td>26254</td>\n",
       "    </tr>\n",
       "    <tr>\n",
       "      <th>2</th>\n",
       "      <td>'es_health'</td>\n",
       "      <td>16133</td>\n",
       "    </tr>\n",
       "    <tr>\n",
       "      <th>3</th>\n",
       "      <td>'es_wellnessandbeauty'</td>\n",
       "      <td>15086</td>\n",
       "    </tr>\n",
       "    <tr>\n",
       "      <th>4</th>\n",
       "      <td>'es_fashion'</td>\n",
       "      <td>6454</td>\n",
       "    </tr>\n",
       "    <tr>\n",
       "      <th>5</th>\n",
       "      <td>'es_barsandrestaurants'</td>\n",
       "      <td>6373</td>\n",
       "    </tr>\n",
       "    <tr>\n",
       "      <th>6</th>\n",
       "      <td>'es_hyper'</td>\n",
       "      <td>6098</td>\n",
       "    </tr>\n",
       "    <tr>\n",
       "      <th>7</th>\n",
       "      <td>'es_sportsandtoys'</td>\n",
       "      <td>4002</td>\n",
       "    </tr>\n",
       "    <tr>\n",
       "      <th>8</th>\n",
       "      <td>'es_tech'</td>\n",
       "      <td>2370</td>\n",
       "    </tr>\n",
       "    <tr>\n",
       "      <th>9</th>\n",
       "      <td>'es_home'</td>\n",
       "      <td>1986</td>\n",
       "    </tr>\n",
       "    <tr>\n",
       "      <th>10</th>\n",
       "      <td>'es_hotelservices'</td>\n",
       "      <td>1744</td>\n",
       "    </tr>\n",
       "    <tr>\n",
       "      <th>11</th>\n",
       "      <td>'es_otherservices'</td>\n",
       "      <td>912</td>\n",
       "    </tr>\n",
       "    <tr>\n",
       "      <th>12</th>\n",
       "      <td>'es_contents'</td>\n",
       "      <td>885</td>\n",
       "    </tr>\n",
       "    <tr>\n",
       "      <th>13</th>\n",
       "      <td>'es_travel'</td>\n",
       "      <td>728</td>\n",
       "    </tr>\n",
       "    <tr>\n",
       "      <th>14</th>\n",
       "      <td>'es_leisure'</td>\n",
       "      <td>499</td>\n",
       "    </tr>\n",
       "  </tbody>\n",
       "</table>\n",
       "</div>"
      ],
      "text/plain": [
       "                   category   count\n",
       "0       'es_transportation'  505119\n",
       "1                 'es_food'   26254\n",
       "2               'es_health'   16133\n",
       "3    'es_wellnessandbeauty'   15086\n",
       "4              'es_fashion'    6454\n",
       "5   'es_barsandrestaurants'    6373\n",
       "6                'es_hyper'    6098\n",
       "7        'es_sportsandtoys'    4002\n",
       "8                 'es_tech'    2370\n",
       "9                 'es_home'    1986\n",
       "10       'es_hotelservices'    1744\n",
       "11       'es_otherservices'     912\n",
       "12            'es_contents'     885\n",
       "13              'es_travel'     728\n",
       "14             'es_leisure'     499"
      ]
     },
     "execution_count": 19,
     "metadata": {},
     "output_type": "execute_result"
    }
   ],
   "source": [
    "count_by_category = count_by_category.rename(columns={'index':'category', 'category':'count'})\n",
    "count_by_category"
   ]
  },
  {
   "cell_type": "code",
   "execution_count": 20,
   "id": "3d34716d",
   "metadata": {},
   "outputs": [],
   "source": [
    "category_wise_fraud = pd.merge(category_wise_fraud, count_by_category, on='category')"
   ]
  },
  {
   "cell_type": "code",
   "execution_count": 21,
   "id": "f76c1e65",
   "metadata": {},
   "outputs": [
    {
     "data": {
      "text/html": [
       "<div>\n",
       "<style scoped>\n",
       "    .dataframe tbody tr th:only-of-type {\n",
       "        vertical-align: middle;\n",
       "    }\n",
       "\n",
       "    .dataframe tbody tr th {\n",
       "        vertical-align: top;\n",
       "    }\n",
       "\n",
       "    .dataframe thead th {\n",
       "        text-align: right;\n",
       "    }\n",
       "</style>\n",
       "<table border=\"1\" class=\"dataframe\">\n",
       "  <thead>\n",
       "    <tr style=\"text-align: right;\">\n",
       "      <th></th>\n",
       "      <th>category</th>\n",
       "      <th>amount</th>\n",
       "      <th>fraud</th>\n",
       "      <th>count</th>\n",
       "    </tr>\n",
       "  </thead>\n",
       "  <tbody>\n",
       "    <tr>\n",
       "      <th>0</th>\n",
       "      <td>'es_leisure'</td>\n",
       "      <td>288.911303</td>\n",
       "      <td>0.949900</td>\n",
       "      <td>499</td>\n",
       "    </tr>\n",
       "    <tr>\n",
       "      <th>1</th>\n",
       "      <td>'es_travel'</td>\n",
       "      <td>2250.409190</td>\n",
       "      <td>0.793956</td>\n",
       "      <td>728</td>\n",
       "    </tr>\n",
       "    <tr>\n",
       "      <th>2</th>\n",
       "      <td>'es_sportsandtoys'</td>\n",
       "      <td>215.715280</td>\n",
       "      <td>0.495252</td>\n",
       "      <td>4002</td>\n",
       "    </tr>\n",
       "    <tr>\n",
       "      <th>3</th>\n",
       "      <td>'es_hotelservices'</td>\n",
       "      <td>205.614249</td>\n",
       "      <td>0.314220</td>\n",
       "      <td>1744</td>\n",
       "    </tr>\n",
       "    <tr>\n",
       "      <th>4</th>\n",
       "      <td>'es_otherservices'</td>\n",
       "      <td>135.881524</td>\n",
       "      <td>0.250000</td>\n",
       "      <td>912</td>\n",
       "    </tr>\n",
       "    <tr>\n",
       "      <th>5</th>\n",
       "      <td>'es_home'</td>\n",
       "      <td>165.670846</td>\n",
       "      <td>0.152064</td>\n",
       "      <td>1986</td>\n",
       "    </tr>\n",
       "    <tr>\n",
       "      <th>6</th>\n",
       "      <td>'es_health'</td>\n",
       "      <td>135.621367</td>\n",
       "      <td>0.105126</td>\n",
       "      <td>16133</td>\n",
       "    </tr>\n",
       "    <tr>\n",
       "      <th>7</th>\n",
       "      <td>'es_tech'</td>\n",
       "      <td>120.947937</td>\n",
       "      <td>0.066667</td>\n",
       "      <td>2370</td>\n",
       "    </tr>\n",
       "    <tr>\n",
       "      <th>8</th>\n",
       "      <td>'es_wellnessandbeauty'</td>\n",
       "      <td>65.511221</td>\n",
       "      <td>0.047594</td>\n",
       "      <td>15086</td>\n",
       "    </tr>\n",
       "    <tr>\n",
       "      <th>9</th>\n",
       "      <td>'es_hyper'</td>\n",
       "      <td>45.970421</td>\n",
       "      <td>0.045917</td>\n",
       "      <td>6098</td>\n",
       "    </tr>\n",
       "    <tr>\n",
       "      <th>10</th>\n",
       "      <td>'es_barsandrestaurants'</td>\n",
       "      <td>43.461014</td>\n",
       "      <td>0.018829</td>\n",
       "      <td>6373</td>\n",
       "    </tr>\n",
       "    <tr>\n",
       "      <th>11</th>\n",
       "      <td>'es_fashion'</td>\n",
       "      <td>65.666642</td>\n",
       "      <td>0.017973</td>\n",
       "      <td>6454</td>\n",
       "    </tr>\n",
       "    <tr>\n",
       "      <th>12</th>\n",
       "      <td>'es_contents'</td>\n",
       "      <td>44.547571</td>\n",
       "      <td>0.000000</td>\n",
       "      <td>885</td>\n",
       "    </tr>\n",
       "    <tr>\n",
       "      <th>13</th>\n",
       "      <td>'es_food'</td>\n",
       "      <td>37.070405</td>\n",
       "      <td>0.000000</td>\n",
       "      <td>26254</td>\n",
       "    </tr>\n",
       "    <tr>\n",
       "      <th>14</th>\n",
       "      <td>'es_transportation'</td>\n",
       "      <td>26.958187</td>\n",
       "      <td>0.000000</td>\n",
       "      <td>505119</td>\n",
       "    </tr>\n",
       "  </tbody>\n",
       "</table>\n",
       "</div>"
      ],
      "text/plain": [
       "                   category       amount     fraud   count\n",
       "0              'es_leisure'   288.911303  0.949900     499\n",
       "1               'es_travel'  2250.409190  0.793956     728\n",
       "2        'es_sportsandtoys'   215.715280  0.495252    4002\n",
       "3        'es_hotelservices'   205.614249  0.314220    1744\n",
       "4        'es_otherservices'   135.881524  0.250000     912\n",
       "5                 'es_home'   165.670846  0.152064    1986\n",
       "6               'es_health'   135.621367  0.105126   16133\n",
       "7                 'es_tech'   120.947937  0.066667    2370\n",
       "8    'es_wellnessandbeauty'    65.511221  0.047594   15086\n",
       "9                'es_hyper'    45.970421  0.045917    6098\n",
       "10  'es_barsandrestaurants'    43.461014  0.018829    6373\n",
       "11             'es_fashion'    65.666642  0.017973    6454\n",
       "12            'es_contents'    44.547571  0.000000     885\n",
       "13                'es_food'    37.070405  0.000000   26254\n",
       "14      'es_transportation'    26.958187  0.000000  505119"
      ]
     },
     "execution_count": 21,
     "metadata": {},
     "output_type": "execute_result"
    }
   ],
   "source": [
    "category_wise_fraud"
   ]
  },
  {
   "cell_type": "markdown",
   "id": "32d8eb78",
   "metadata": {},
   "source": [
    "1. Leisure category is highly suspected there are total 499 Transection falls in this category in which more than 94% of its transections are fraud.\n",
    "2. Travel holds the 2nd Position more than 74% of its transections are fraud.\n",
    "3. Transportaion, Food and Contents is cleanest acrooss the category, They do not have any fraud Transection.\n",
    "4. Most of the payments lies in above 3 categories."
   ]
  },
  {
   "cell_type": "code",
   "execution_count": 22,
   "id": "12df2106",
   "metadata": {},
   "outputs": [
    {
     "name": "stderr",
     "output_type": "stream",
     "text": [
      "No handles with labels found to put in legend.\n"
     ]
    },
    {
     "data": {
      "image/png": "[encoded data removed]",
      "text/plain": [
       "<Figure size 2160x720 with 1 Axes>"
      ]
     },
     "metadata": {
      "needs_background": "light"
     },
     "output_type": "display_data"
    }
   ],
   "source": [
    "plt.figure(figsize=(30,10))\n",
    "sns.boxplot(x=df.category,y=df.amount)\n",
    "plt.title(\"Boxplot for the Amount spend in category\")\n",
    "plt.ylim(0,4000)\n",
    "plt.legend()\n",
    "plt.show()"
   ]
  },
  {
   "cell_type": "code",
   "execution_count": 23,
   "id": "d8945d69",
   "metadata": {},
   "outputs": [
    {
     "data": {
      "text/plain": [
       "22531103.730000004"
      ]
     },
     "execution_count": 23,
     "metadata": {},
     "output_type": "execute_result"
    }
   ],
   "source": [
    "# Total Amount\n",
    "df['amount'].sum()"
   ]
  },
  {
   "cell_type": "code",
   "execution_count": 24,
   "id": "fe20d360",
   "metadata": {},
   "outputs": [
    {
     "data": {
      "text/plain": [
       "1638297.89032"
      ]
     },
     "execution_count": 24,
     "metadata": {},
     "output_type": "execute_result"
    }
   ],
   "source": [
    "# Total Transection in Travel cateogry\n",
    "2250.409190 * 728"
   ]
  },
  {
   "cell_type": "code",
   "execution_count": 25,
   "id": "77541e03",
   "metadata": {},
   "outputs": [
    {
     "data": {
      "text/plain": [
       "1300736.4398069058"
      ]
     },
     "execution_count": 25,
     "metadata": {},
     "output_type": "execute_result"
    }
   ],
   "source": [
    "# Fraud Transection in Travel Category\n",
    "1638297.89032 * 0.793956 "
   ]
  },
  {
   "cell_type": "code",
   "execution_count": 26,
   "id": "ff2feba2",
   "metadata": {},
   "outputs": [
    {
     "name": "stdout",
     "output_type": "stream",
     "text": [
      "Percent of Fraud Transection Made by Travel Over Total Transection: 5.773070220590146\n"
     ]
    }
   ],
   "source": [
    "# Total Fraud Transection Made by Travel\n",
    "print('Percent of Fraud Transection Made by Travel Over Total Transection:', (1300736.4398069058 / 22531103.730000004) * 100)"
   ]
  },
  {
   "cell_type": "code",
   "execution_count": 27,
   "id": "4d068621",
   "metadata": {},
   "outputs": [
    {
     "data": {
      "text/plain": [
       "age\n",
       "'0'    1.957586\n",
       "'1'    1.185254\n",
       "'2'    1.251401\n",
       "'3'    1.192815\n",
       "'4'    1.293281\n",
       "'5'    1.095112\n",
       "'6'    0.974826\n",
       "'U'    0.594228\n",
       "Name: fraud, dtype: float64"
      ]
     },
     "execution_count": 27,
     "metadata": {},
     "output_type": "execute_result"
    }
   ],
   "source": [
    "df.groupby('age')['fraud'].mean()*100"
   ]
  },
  {
   "cell_type": "markdown",
   "id": "c38c7b59",
   "metadata": {},
   "source": [
    " Fraud occurs more in age group of 0-18 (0th category). Fraudster are really young or they think that it would be less consiqential if they show their age younger."
   ]
  },
  {
   "cell_type": "code",
   "execution_count": 28,
   "id": "c5f4585c",
   "metadata": {},
   "outputs": [
    {
     "data": {
      "text/html": [
       "<div>\n",
       "<style scoped>\n",
       "    .dataframe tbody tr th:only-of-type {\n",
       "        vertical-align: middle;\n",
       "    }\n",
       "\n",
       "    .dataframe tbody tr th {\n",
       "        vertical-align: top;\n",
       "    }\n",
       "\n",
       "    .dataframe thead th {\n",
       "        text-align: right;\n",
       "    }\n",
       "</style>\n",
       "<table border=\"1\" class=\"dataframe\">\n",
       "  <thead>\n",
       "    <tr style=\"text-align: right;\">\n",
       "      <th></th>\n",
       "      <th>step</th>\n",
       "      <th>customer</th>\n",
       "      <th>age</th>\n",
       "      <th>gender</th>\n",
       "      <th>zipcodeOri</th>\n",
       "      <th>merchant</th>\n",
       "      <th>zipMerchant</th>\n",
       "      <th>category</th>\n",
       "      <th>amount</th>\n",
       "      <th>fraud</th>\n",
       "    </tr>\n",
       "  </thead>\n",
       "  <tbody>\n",
       "    <tr>\n",
       "      <th>0</th>\n",
       "      <td>0</td>\n",
       "      <td>'C1093826151'</td>\n",
       "      <td>'4'</td>\n",
       "      <td>'M'</td>\n",
       "      <td>'28007'</td>\n",
       "      <td>'M348934600'</td>\n",
       "      <td>'28007'</td>\n",
       "      <td>'es_transportation'</td>\n",
       "      <td>4.55</td>\n",
       "      <td>0</td>\n",
       "    </tr>\n",
       "    <tr>\n",
       "      <th>1</th>\n",
       "      <td>0</td>\n",
       "      <td>'C352968107'</td>\n",
       "      <td>'2'</td>\n",
       "      <td>'M'</td>\n",
       "      <td>'28007'</td>\n",
       "      <td>'M348934600'</td>\n",
       "      <td>'28007'</td>\n",
       "      <td>'es_transportation'</td>\n",
       "      <td>39.68</td>\n",
       "      <td>0</td>\n",
       "    </tr>\n",
       "    <tr>\n",
       "      <th>2</th>\n",
       "      <td>0</td>\n",
       "      <td>'C2054744914'</td>\n",
       "      <td>'4'</td>\n",
       "      <td>'F'</td>\n",
       "      <td>'28007'</td>\n",
       "      <td>'M1823072687'</td>\n",
       "      <td>'28007'</td>\n",
       "      <td>'es_transportation'</td>\n",
       "      <td>26.89</td>\n",
       "      <td>0</td>\n",
       "    </tr>\n",
       "    <tr>\n",
       "      <th>3</th>\n",
       "      <td>0</td>\n",
       "      <td>'C1760612790'</td>\n",
       "      <td>'3'</td>\n",
       "      <td>'M'</td>\n",
       "      <td>'28007'</td>\n",
       "      <td>'M348934600'</td>\n",
       "      <td>'28007'</td>\n",
       "      <td>'es_transportation'</td>\n",
       "      <td>17.25</td>\n",
       "      <td>0</td>\n",
       "    </tr>\n",
       "    <tr>\n",
       "      <th>4</th>\n",
       "      <td>0</td>\n",
       "      <td>'C757503768'</td>\n",
       "      <td>'5'</td>\n",
       "      <td>'M'</td>\n",
       "      <td>'28007'</td>\n",
       "      <td>'M348934600'</td>\n",
       "      <td>'28007'</td>\n",
       "      <td>'es_transportation'</td>\n",
       "      <td>35.72</td>\n",
       "      <td>0</td>\n",
       "    </tr>\n",
       "    <tr>\n",
       "      <th>...</th>\n",
       "      <td>...</td>\n",
       "      <td>...</td>\n",
       "      <td>...</td>\n",
       "      <td>...</td>\n",
       "      <td>...</td>\n",
       "      <td>...</td>\n",
       "      <td>...</td>\n",
       "      <td>...</td>\n",
       "      <td>...</td>\n",
       "      <td>...</td>\n",
       "    </tr>\n",
       "    <tr>\n",
       "      <th>594638</th>\n",
       "      <td>179</td>\n",
       "      <td>'C1753498738'</td>\n",
       "      <td>'3'</td>\n",
       "      <td>'F'</td>\n",
       "      <td>'28007'</td>\n",
       "      <td>'M1823072687'</td>\n",
       "      <td>'28007'</td>\n",
       "      <td>'es_transportation'</td>\n",
       "      <td>20.53</td>\n",
       "      <td>0</td>\n",
       "    </tr>\n",
       "    <tr>\n",
       "      <th>594639</th>\n",
       "      <td>179</td>\n",
       "      <td>'C650108285'</td>\n",
       "      <td>'4'</td>\n",
       "      <td>'F'</td>\n",
       "      <td>'28007'</td>\n",
       "      <td>'M1823072687'</td>\n",
       "      <td>'28007'</td>\n",
       "      <td>'es_transportation'</td>\n",
       "      <td>50.73</td>\n",
       "      <td>0</td>\n",
       "    </tr>\n",
       "    <tr>\n",
       "      <th>594640</th>\n",
       "      <td>179</td>\n",
       "      <td>'C123623130'</td>\n",
       "      <td>'2'</td>\n",
       "      <td>'F'</td>\n",
       "      <td>'28007'</td>\n",
       "      <td>'M349281107'</td>\n",
       "      <td>'28007'</td>\n",
       "      <td>'es_fashion'</td>\n",
       "      <td>22.44</td>\n",
       "      <td>0</td>\n",
       "    </tr>\n",
       "    <tr>\n",
       "      <th>594641</th>\n",
       "      <td>179</td>\n",
       "      <td>'C1499363341'</td>\n",
       "      <td>'5'</td>\n",
       "      <td>'M'</td>\n",
       "      <td>'28007'</td>\n",
       "      <td>'M1823072687'</td>\n",
       "      <td>'28007'</td>\n",
       "      <td>'es_transportation'</td>\n",
       "      <td>14.46</td>\n",
       "      <td>0</td>\n",
       "    </tr>\n",
       "    <tr>\n",
       "      <th>594642</th>\n",
       "      <td>179</td>\n",
       "      <td>'C616528518'</td>\n",
       "      <td>'4'</td>\n",
       "      <td>'F'</td>\n",
       "      <td>'28007'</td>\n",
       "      <td>'M1823072687'</td>\n",
       "      <td>'28007'</td>\n",
       "      <td>'es_transportation'</td>\n",
       "      <td>26.93</td>\n",
       "      <td>0</td>\n",
       "    </tr>\n",
       "  </tbody>\n",
       "</table>\n",
       "<p>594643 rows × 10 columns</p>\n",
       "</div>"
      ],
      "text/plain": [
       "        step       customer  age gender zipcodeOri       merchant zipMerchant  \\\n",
       "0          0  'C1093826151'  '4'    'M'    '28007'   'M348934600'     '28007'   \n",
       "1          0   'C352968107'  '2'    'M'    '28007'   'M348934600'     '28007'   \n",
       "2          0  'C2054744914'  '4'    'F'    '28007'  'M1823072687'     '28007'   \n",
       "3          0  'C1760612790'  '3'    'M'    '28007'   'M348934600'     '28007'   \n",
       "4          0   'C757503768'  '5'    'M'    '28007'   'M348934600'     '28007'   \n",
       "...      ...            ...  ...    ...        ...            ...         ...   \n",
       "594638   179  'C1753498738'  '3'    'F'    '28007'  'M1823072687'     '28007'   \n",
       "594639   179   'C650108285'  '4'    'F'    '28007'  'M1823072687'     '28007'   \n",
       "594640   179   'C123623130'  '2'    'F'    '28007'   'M349281107'     '28007'   \n",
       "594641   179  'C1499363341'  '5'    'M'    '28007'  'M1823072687'     '28007'   \n",
       "594642   179   'C616528518'  '4'    'F'    '28007'  'M1823072687'     '28007'   \n",
       "\n",
       "                   category  amount  fraud  \n",
       "0       'es_transportation'    4.55      0  \n",
       "1       'es_transportation'   39.68      0  \n",
       "2       'es_transportation'   26.89      0  \n",
       "3       'es_transportation'   17.25      0  \n",
       "4       'es_transportation'   35.72      0  \n",
       "...                     ...     ...    ...  \n",
       "594638  'es_transportation'   20.53      0  \n",
       "594639  'es_transportation'   50.73      0  \n",
       "594640         'es_fashion'   22.44      0  \n",
       "594641  'es_transportation'   14.46      0  \n",
       "594642  'es_transportation'   26.93      0  \n",
       "\n",
       "[594643 rows x 10 columns]"
      ]
     },
     "execution_count": 28,
     "metadata": {},
     "output_type": "execute_result"
    }
   ],
   "source": [
    "# Both The Zipcodes are Same therefor we are dropping the zipcode columns\n",
    "df"
   ]
  },
  {
   "cell_type": "code",
   "execution_count": 29,
   "id": "921b2b1d",
   "metadata": {},
   "outputs": [],
   "source": [
    "df.drop(['zipcodeOri', 'zipMerchant'], axis=1, inplace=True)"
   ]
  },
  {
   "cell_type": "code",
   "execution_count": 30,
   "id": "93f996e1",
   "metadata": {},
   "outputs": [
    {
     "data": {
      "text/html": [
       "<div>\n",
       "<style scoped>\n",
       "    .dataframe tbody tr th:only-of-type {\n",
       "        vertical-align: middle;\n",
       "    }\n",
       "\n",
       "    .dataframe tbody tr th {\n",
       "        vertical-align: top;\n",
       "    }\n",
       "\n",
       "    .dataframe thead th {\n",
       "        text-align: right;\n",
       "    }\n",
       "</style>\n",
       "<table border=\"1\" class=\"dataframe\">\n",
       "  <thead>\n",
       "    <tr style=\"text-align: right;\">\n",
       "      <th></th>\n",
       "      <th>step</th>\n",
       "      <th>customer</th>\n",
       "      <th>age</th>\n",
       "      <th>gender</th>\n",
       "      <th>merchant</th>\n",
       "      <th>category</th>\n",
       "      <th>amount</th>\n",
       "      <th>fraud</th>\n",
       "    </tr>\n",
       "  </thead>\n",
       "  <tbody>\n",
       "    <tr>\n",
       "      <th>0</th>\n",
       "      <td>0</td>\n",
       "      <td>'C1093826151'</td>\n",
       "      <td>'4'</td>\n",
       "      <td>'M'</td>\n",
       "      <td>'M348934600'</td>\n",
       "      <td>'es_transportation'</td>\n",
       "      <td>4.55</td>\n",
       "      <td>0</td>\n",
       "    </tr>\n",
       "    <tr>\n",
       "      <th>1</th>\n",
       "      <td>0</td>\n",
       "      <td>'C352968107'</td>\n",
       "      <td>'2'</td>\n",
       "      <td>'M'</td>\n",
       "      <td>'M348934600'</td>\n",
       "      <td>'es_transportation'</td>\n",
       "      <td>39.68</td>\n",
       "      <td>0</td>\n",
       "    </tr>\n",
       "    <tr>\n",
       "      <th>2</th>\n",
       "      <td>0</td>\n",
       "      <td>'C2054744914'</td>\n",
       "      <td>'4'</td>\n",
       "      <td>'F'</td>\n",
       "      <td>'M1823072687'</td>\n",
       "      <td>'es_transportation'</td>\n",
       "      <td>26.89</td>\n",
       "      <td>0</td>\n",
       "    </tr>\n",
       "    <tr>\n",
       "      <th>3</th>\n",
       "      <td>0</td>\n",
       "      <td>'C1760612790'</td>\n",
       "      <td>'3'</td>\n",
       "      <td>'M'</td>\n",
       "      <td>'M348934600'</td>\n",
       "      <td>'es_transportation'</td>\n",
       "      <td>17.25</td>\n",
       "      <td>0</td>\n",
       "    </tr>\n",
       "    <tr>\n",
       "      <th>4</th>\n",
       "      <td>0</td>\n",
       "      <td>'C757503768'</td>\n",
       "      <td>'5'</td>\n",
       "      <td>'M'</td>\n",
       "      <td>'M348934600'</td>\n",
       "      <td>'es_transportation'</td>\n",
       "      <td>35.72</td>\n",
       "      <td>0</td>\n",
       "    </tr>\n",
       "    <tr>\n",
       "      <th>...</th>\n",
       "      <td>...</td>\n",
       "      <td>...</td>\n",
       "      <td>...</td>\n",
       "      <td>...</td>\n",
       "      <td>...</td>\n",
       "      <td>...</td>\n",
       "      <td>...</td>\n",
       "      <td>...</td>\n",
       "    </tr>\n",
       "    <tr>\n",
       "      <th>594638</th>\n",
       "      <td>179</td>\n",
       "      <td>'C1753498738'</td>\n",
       "      <td>'3'</td>\n",
       "      <td>'F'</td>\n",
       "      <td>'M1823072687'</td>\n",
       "      <td>'es_transportation'</td>\n",
       "      <td>20.53</td>\n",
       "      <td>0</td>\n",
       "    </tr>\n",
       "    <tr>\n",
       "      <th>594639</th>\n",
       "      <td>179</td>\n",
       "      <td>'C650108285'</td>\n",
       "      <td>'4'</td>\n",
       "      <td>'F'</td>\n",
       "      <td>'M1823072687'</td>\n",
       "      <td>'es_transportation'</td>\n",
       "      <td>50.73</td>\n",
       "      <td>0</td>\n",
       "    </tr>\n",
       "    <tr>\n",
       "      <th>594640</th>\n",
       "      <td>179</td>\n",
       "      <td>'C123623130'</td>\n",
       "      <td>'2'</td>\n",
       "      <td>'F'</td>\n",
       "      <td>'M349281107'</td>\n",
       "      <td>'es_fashion'</td>\n",
       "      <td>22.44</td>\n",
       "      <td>0</td>\n",
       "    </tr>\n",
       "    <tr>\n",
       "      <th>594641</th>\n",
       "      <td>179</td>\n",
       "      <td>'C1499363341'</td>\n",
       "      <td>'5'</td>\n",
       "      <td>'M'</td>\n",
       "      <td>'M1823072687'</td>\n",
       "      <td>'es_transportation'</td>\n",
       "      <td>14.46</td>\n",
       "      <td>0</td>\n",
       "    </tr>\n",
       "    <tr>\n",
       "      <th>594642</th>\n",
       "      <td>179</td>\n",
       "      <td>'C616528518'</td>\n",
       "      <td>'4'</td>\n",
       "      <td>'F'</td>\n",
       "      <td>'M1823072687'</td>\n",
       "      <td>'es_transportation'</td>\n",
       "      <td>26.93</td>\n",
       "      <td>0</td>\n",
       "    </tr>\n",
       "  </tbody>\n",
       "</table>\n",
       "<p>594643 rows × 8 columns</p>\n",
       "</div>"
      ],
      "text/plain": [
       "        step       customer  age gender       merchant             category  \\\n",
       "0          0  'C1093826151'  '4'    'M'   'M348934600'  'es_transportation'   \n",
       "1          0   'C352968107'  '2'    'M'   'M348934600'  'es_transportation'   \n",
       "2          0  'C2054744914'  '4'    'F'  'M1823072687'  'es_transportation'   \n",
       "3          0  'C1760612790'  '3'    'M'   'M348934600'  'es_transportation'   \n",
       "4          0   'C757503768'  '5'    'M'   'M348934600'  'es_transportation'   \n",
       "...      ...            ...  ...    ...            ...                  ...   \n",
       "594638   179  'C1753498738'  '3'    'F'  'M1823072687'  'es_transportation'   \n",
       "594639   179   'C650108285'  '4'    'F'  'M1823072687'  'es_transportation'   \n",
       "594640   179   'C123623130'  '2'    'F'   'M349281107'         'es_fashion'   \n",
       "594641   179  'C1499363341'  '5'    'M'  'M1823072687'  'es_transportation'   \n",
       "594642   179   'C616528518'  '4'    'F'  'M1823072687'  'es_transportation'   \n",
       "\n",
       "        amount  fraud  \n",
       "0         4.55      0  \n",
       "1        39.68      0  \n",
       "2        26.89      0  \n",
       "3        17.25      0  \n",
       "4        35.72      0  \n",
       "...        ...    ...  \n",
       "594638   20.53      0  \n",
       "594639   50.73      0  \n",
       "594640   22.44      0  \n",
       "594641   14.46      0  \n",
       "594642   26.93      0  \n",
       "\n",
       "[594643 rows x 8 columns]"
      ]
     },
     "execution_count": 30,
     "metadata": {},
     "output_type": "execute_result"
    }
   ],
   "source": [
    "df"
   ]
  },
  {
   "cell_type": "code",
   "execution_count": 31,
   "id": "c209aa04",
   "metadata": {},
   "outputs": [
    {
     "data": {
      "text/plain": [
       "step          int64\n",
       "customer     object\n",
       "age          object\n",
       "gender       object\n",
       "merchant     object\n",
       "category     object\n",
       "amount      float64\n",
       "fraud         int64\n",
       "dtype: object"
      ]
     },
     "execution_count": 31,
     "metadata": {},
     "output_type": "execute_result"
    }
   ],
   "source": [
    "df.dtypes"
   ]
  },
  {
   "cell_type": "code",
   "execution_count": 32,
   "id": "4555eca5",
   "metadata": {},
   "outputs": [],
   "source": [
    "def transform(data):\n",
    "    for i in data.columns:\n",
    "        if data[i].dtypes != 'object':\n",
    "            pass\n",
    "        else:\n",
    "            data[i] = data[i].astype('category')\n",
    "            data[i] = data[i].cat.codes\n",
    "    return data            "
   ]
  },
  {
   "cell_type": "code",
   "execution_count": 33,
   "id": "e2963cd5",
   "metadata": {},
   "outputs": [
    {
     "data": {
      "text/html": [
       "<div>\n",
       "<style scoped>\n",
       "    .dataframe tbody tr th:only-of-type {\n",
       "        vertical-align: middle;\n",
       "    }\n",
       "\n",
       "    .dataframe tbody tr th {\n",
       "        vertical-align: top;\n",
       "    }\n",
       "\n",
       "    .dataframe thead th {\n",
       "        text-align: right;\n",
       "    }\n",
       "</style>\n",
       "<table border=\"1\" class=\"dataframe\">\n",
       "  <thead>\n",
       "    <tr style=\"text-align: right;\">\n",
       "      <th></th>\n",
       "      <th>step</th>\n",
       "      <th>customer</th>\n",
       "      <th>age</th>\n",
       "      <th>gender</th>\n",
       "      <th>merchant</th>\n",
       "      <th>category</th>\n",
       "      <th>amount</th>\n",
       "      <th>fraud</th>\n",
       "    </tr>\n",
       "  </thead>\n",
       "  <tbody>\n",
       "    <tr>\n",
       "      <th>0</th>\n",
       "      <td>0</td>\n",
       "      <td>210</td>\n",
       "      <td>4</td>\n",
       "      <td>2</td>\n",
       "      <td>30</td>\n",
       "      <td>12</td>\n",
       "      <td>4.55</td>\n",
       "      <td>0</td>\n",
       "    </tr>\n",
       "    <tr>\n",
       "      <th>1</th>\n",
       "      <td>0</td>\n",
       "      <td>2753</td>\n",
       "      <td>2</td>\n",
       "      <td>2</td>\n",
       "      <td>30</td>\n",
       "      <td>12</td>\n",
       "      <td>39.68</td>\n",
       "      <td>0</td>\n",
       "    </tr>\n",
       "    <tr>\n",
       "      <th>2</th>\n",
       "      <td>0</td>\n",
       "      <td>2285</td>\n",
       "      <td>4</td>\n",
       "      <td>1</td>\n",
       "      <td>18</td>\n",
       "      <td>12</td>\n",
       "      <td>26.89</td>\n",
       "      <td>0</td>\n",
       "    </tr>\n",
       "    <tr>\n",
       "      <th>3</th>\n",
       "      <td>0</td>\n",
       "      <td>1650</td>\n",
       "      <td>3</td>\n",
       "      <td>2</td>\n",
       "      <td>30</td>\n",
       "      <td>12</td>\n",
       "      <td>17.25</td>\n",
       "      <td>0</td>\n",
       "    </tr>\n",
       "    <tr>\n",
       "      <th>4</th>\n",
       "      <td>0</td>\n",
       "      <td>3585</td>\n",
       "      <td>5</td>\n",
       "      <td>2</td>\n",
       "      <td>30</td>\n",
       "      <td>12</td>\n",
       "      <td>35.72</td>\n",
       "      <td>0</td>\n",
       "    </tr>\n",
       "    <tr>\n",
       "      <th>...</th>\n",
       "      <td>...</td>\n",
       "      <td>...</td>\n",
       "      <td>...</td>\n",
       "      <td>...</td>\n",
       "      <td>...</td>\n",
       "      <td>...</td>\n",
       "      <td>...</td>\n",
       "      <td>...</td>\n",
       "    </tr>\n",
       "    <tr>\n",
       "      <th>594638</th>\n",
       "      <td>179</td>\n",
       "      <td>1639</td>\n",
       "      <td>3</td>\n",
       "      <td>1</td>\n",
       "      <td>18</td>\n",
       "      <td>12</td>\n",
       "      <td>20.53</td>\n",
       "      <td>0</td>\n",
       "    </tr>\n",
       "    <tr>\n",
       "      <th>594639</th>\n",
       "      <td>179</td>\n",
       "      <td>3369</td>\n",
       "      <td>4</td>\n",
       "      <td>1</td>\n",
       "      <td>18</td>\n",
       "      <td>12</td>\n",
       "      <td>50.73</td>\n",
       "      <td>0</td>\n",
       "    </tr>\n",
       "    <tr>\n",
       "      <th>594640</th>\n",
       "      <td>179</td>\n",
       "      <td>529</td>\n",
       "      <td>2</td>\n",
       "      <td>1</td>\n",
       "      <td>31</td>\n",
       "      <td>2</td>\n",
       "      <td>22.44</td>\n",
       "      <td>0</td>\n",
       "    </tr>\n",
       "    <tr>\n",
       "      <th>594641</th>\n",
       "      <td>179</td>\n",
       "      <td>1083</td>\n",
       "      <td>5</td>\n",
       "      <td>2</td>\n",
       "      <td>18</td>\n",
       "      <td>12</td>\n",
       "      <td>14.46</td>\n",
       "      <td>0</td>\n",
       "    </tr>\n",
       "    <tr>\n",
       "      <th>594642</th>\n",
       "      <td>179</td>\n",
       "      <td>3304</td>\n",
       "      <td>4</td>\n",
       "      <td>1</td>\n",
       "      <td>18</td>\n",
       "      <td>12</td>\n",
       "      <td>26.93</td>\n",
       "      <td>0</td>\n",
       "    </tr>\n",
       "  </tbody>\n",
       "</table>\n",
       "<p>594643 rows × 8 columns</p>\n",
       "</div>"
      ],
      "text/plain": [
       "        step  customer  age  gender  merchant  category  amount  fraud\n",
       "0          0       210    4       2        30        12    4.55      0\n",
       "1          0      2753    2       2        30        12   39.68      0\n",
       "2          0      2285    4       1        18        12   26.89      0\n",
       "3          0      1650    3       2        30        12   17.25      0\n",
       "4          0      3585    5       2        30        12   35.72      0\n",
       "...      ...       ...  ...     ...       ...       ...     ...    ...\n",
       "594638   179      1639    3       1        18        12   20.53      0\n",
       "594639   179      3369    4       1        18        12   50.73      0\n",
       "594640   179       529    2       1        31         2   22.44      0\n",
       "594641   179      1083    5       2        18        12   14.46      0\n",
       "594642   179      3304    4       1        18        12   26.93      0\n",
       "\n",
       "[594643 rows x 8 columns]"
      ]
     },
     "execution_count": 33,
     "metadata": {},
     "output_type": "execute_result"
    }
   ],
   "source": [
    "transform(df)"
   ]
  },
  {
   "cell_type": "code",
   "execution_count": 34,
   "id": "d8a2c6b0",
   "metadata": {},
   "outputs": [],
   "source": [
    "y = df['fraud']\n",
    "x = df.drop('fraud',axis=1)"
   ]
  },
  {
   "cell_type": "code",
   "execution_count": 35,
   "id": "6e67d8b2",
   "metadata": {},
   "outputs": [
    {
     "data": {
      "text/plain": [
       "7200"
      ]
     },
     "execution_count": 35,
     "metadata": {},
     "output_type": "execute_result"
    }
   ],
   "source": [
    "y[y==1].sum()"
   ]
  },
  {
   "cell_type": "code",
   "execution_count": 36,
   "id": "9645797b",
   "metadata": {},
   "outputs": [],
   "source": [
    "sm = SMOTE(random_state=42)\n",
    "X_res, y_res = sm.fit_resample(x, y)"
   ]
  },
  {
   "cell_type": "code",
   "execution_count": 37,
   "id": "084117f2",
   "metadata": {},
   "outputs": [
    {
     "data": {
      "text/plain": [
       "fraud\n",
       "0        587443\n",
       "1        587443\n",
       "dtype: int64"
      ]
     },
     "execution_count": 37,
     "metadata": {},
     "output_type": "execute_result"
    }
   ],
   "source": [
    "pd.DataFrame(y_res).value_counts()"
   ]
  },
  {
   "cell_type": "markdown",
   "id": "6e1947d2",
   "metadata": {},
   "source": [
    "Now Both The classes are equal"
   ]
  },
  {
   "cell_type": "code",
   "execution_count": 38,
   "id": "a1d9e05d",
   "metadata": {},
   "outputs": [
    {
     "data": {
      "text/html": [
       "<div>\n",
       "<style scoped>\n",
       "    .dataframe tbody tr th:only-of-type {\n",
       "        vertical-align: middle;\n",
       "    }\n",
       "\n",
       "    .dataframe tbody tr th {\n",
       "        vertical-align: top;\n",
       "    }\n",
       "\n",
       "    .dataframe thead th {\n",
       "        text-align: right;\n",
       "    }\n",
       "</style>\n",
       "<table border=\"1\" class=\"dataframe\">\n",
       "  <thead>\n",
       "    <tr style=\"text-align: right;\">\n",
       "      <th></th>\n",
       "      <th>step</th>\n",
       "      <th>customer</th>\n",
       "      <th>age</th>\n",
       "      <th>gender</th>\n",
       "      <th>merchant</th>\n",
       "      <th>category</th>\n",
       "      <th>amount</th>\n",
       "    </tr>\n",
       "  </thead>\n",
       "  <tbody>\n",
       "    <tr>\n",
       "      <th>0</th>\n",
       "      <td>0</td>\n",
       "      <td>210</td>\n",
       "      <td>4</td>\n",
       "      <td>2</td>\n",
       "      <td>30</td>\n",
       "      <td>12</td>\n",
       "      <td>4.55</td>\n",
       "    </tr>\n",
       "    <tr>\n",
       "      <th>1</th>\n",
       "      <td>0</td>\n",
       "      <td>2753</td>\n",
       "      <td>2</td>\n",
       "      <td>2</td>\n",
       "      <td>30</td>\n",
       "      <td>12</td>\n",
       "      <td>39.68</td>\n",
       "    </tr>\n",
       "  </tbody>\n",
       "</table>\n",
       "</div>"
      ],
      "text/plain": [
       "   step  customer  age  gender  merchant  category  amount\n",
       "0     0       210    4       2        30        12    4.55\n",
       "1     0      2753    2       2        30        12   39.68"
      ]
     },
     "execution_count": 38,
     "metadata": {},
     "output_type": "execute_result"
    }
   ],
   "source": [
    "X_res.head(2)"
   ]
  },
  {
   "cell_type": "code",
   "execution_count": 39,
   "id": "a94958c7",
   "metadata": {},
   "outputs": [
    {
     "data": {
      "text/plain": [
       "(180, 4112)"
      ]
     },
     "execution_count": 39,
     "metadata": {},
     "output_type": "execute_result"
    }
   ],
   "source": [
    "X_res['step'].nunique(), X_res['customer'].nunique()"
   ]
  },
  {
   "cell_type": "code",
   "execution_count": 40,
   "id": "d3367024",
   "metadata": {},
   "outputs": [],
   "source": [
    "X_res1 = X_res.copy()"
   ]
  },
  {
   "cell_type": "code",
   "execution_count": 41,
   "id": "87e3bade",
   "metadata": {},
   "outputs": [],
   "source": [
    "# Dropping The Step and Customer columns\n",
    "X_res1.drop(['step','customer'], axis = 1, inplace =True)"
   ]
  },
  {
   "cell_type": "code",
   "execution_count": 42,
   "id": "abef7cb2",
   "metadata": {},
   "outputs": [],
   "source": [
    "x_train, x_test, y_train, y_test = train_test_split(X_res1, y_res, test_size=0.2, random_state=1)"
   ]
  },
  {
   "cell_type": "markdown",
   "id": "a9559389",
   "metadata": {},
   "source": [
    "### Approach 1 Logistic Regression"
   ]
  },
  {
   "cell_type": "code",
   "execution_count": 43,
   "id": "f82709a4",
   "metadata": {},
   "outputs": [],
   "source": [
    "lr = LogisticRegression()"
   ]
  },
  {
   "cell_type": "code",
   "execution_count": 44,
   "id": "d93dc4b9",
   "metadata": {},
   "outputs": [
    {
     "data": {
      "text/plain": [
       "LogisticRegression()"
      ]
     },
     "execution_count": 44,
     "metadata": {},
     "output_type": "execute_result"
    }
   ],
   "source": [
    "lr.fit(x_train, y_train)"
   ]
  },
  {
   "cell_type": "code",
   "execution_count": 45,
   "id": "00a2d677",
   "metadata": {},
   "outputs": [],
   "source": [
    "lr_pred = lr.predict(x_train)"
   ]
  },
  {
   "cell_type": "code",
   "execution_count": 46,
   "id": "125a45b7",
   "metadata": {},
   "outputs": [
    {
     "data": {
      "text/plain": [
       "0.9217040391187222"
      ]
     },
     "execution_count": 46,
     "metadata": {},
     "output_type": "execute_result"
    }
   ],
   "source": [
    "accuracy_score(y_train, lr_pred)"
   ]
  },
  {
   "cell_type": "code",
   "execution_count": 47,
   "id": "0a03286c",
   "metadata": {},
   "outputs": [
    {
     "data": {
      "text/plain": [
       "0.9219203499902119"
      ]
     },
     "execution_count": 47,
     "metadata": {},
     "output_type": "execute_result"
    }
   ],
   "source": [
    "accuracy_score(y_test, lr.predict(x_test))"
   ]
  },
  {
   "cell_type": "code",
   "execution_count": 48,
   "id": "fbf1b882",
   "metadata": {},
   "outputs": [],
   "source": [
    "from sklearn.metrics import confusion_matrix"
   ]
  },
  {
   "cell_type": "code",
   "execution_count": 49,
   "id": "71bc3cd5",
   "metadata": {},
   "outputs": [
    {
     "data": {
      "text/plain": [
       "array([[445960,  23961],\n",
       "       [ 49630, 420357]], dtype=int64)"
      ]
     },
     "execution_count": 49,
     "metadata": {},
     "output_type": "execute_result"
    }
   ],
   "source": [
    "confusion_matrix(y_train, lr_pred)"
   ]
  },
  {
   "cell_type": "code",
   "execution_count": 50,
   "id": "12bcafe3",
   "metadata": {},
   "outputs": [
    {
     "data": {
      "text/plain": [
       "array([[111446,   6076],\n",
       "       [ 12271, 105185]], dtype=int64)"
      ]
     },
     "execution_count": 50,
     "metadata": {},
     "output_type": "execute_result"
    }
   ],
   "source": [
    "confusion_matrix(y_test, lr.predict(x_test))"
   ]
  },
  {
   "cell_type": "markdown",
   "id": "19314415",
   "metadata": {},
   "source": [
    "### Approach2: K nearest neighbours"
   ]
  },
  {
   "cell_type": "code",
   "execution_count": 51,
   "id": "2afa2b33",
   "metadata": {},
   "outputs": [],
   "source": [
    "from sklearn.neighbors import KNeighborsClassifier"
   ]
  },
  {
   "cell_type": "code",
   "execution_count": 52,
   "id": "9554da1c",
   "metadata": {},
   "outputs": [],
   "source": [
    "kn = KNeighborsClassifier(n_neighbors=4)"
   ]
  },
  {
   "cell_type": "code",
   "execution_count": 53,
   "id": "7c347347",
   "metadata": {},
   "outputs": [
    {
     "data": {
      "text/plain": [
       "KNeighborsClassifier(n_neighbors=4)"
      ]
     },
     "execution_count": 53,
     "metadata": {},
     "output_type": "execute_result"
    }
   ],
   "source": [
    "kn.fit(x_train, y_train)"
   ]
  },
  {
   "cell_type": "code",
   "execution_count": 54,
   "id": "753e3e61",
   "metadata": {},
   "outputs": [],
   "source": [
    "kn_score = kn.predict(x_train)"
   ]
  },
  {
   "cell_type": "code",
   "execution_count": 55,
   "id": "29f7c26f",
   "metadata": {},
   "outputs": [
    {
     "data": {
      "text/plain": [
       "array([[466081,   3840],\n",
       "       [  4325, 465662]], dtype=int64)"
      ]
     },
     "execution_count": 55,
     "metadata": {},
     "output_type": "execute_result"
    }
   ],
   "source": [
    "confusion_matrix(y_train, kn_score)"
   ]
  },
  {
   "cell_type": "code",
   "execution_count": 56,
   "id": "9116031e",
   "metadata": {},
   "outputs": [
    {
     "data": {
      "text/plain": [
       "0.9859816663687664"
      ]
     },
     "execution_count": 56,
     "metadata": {},
     "output_type": "execute_result"
    }
   ],
   "source": [
    "kn.score(x_test, y_test)"
   ]
  },
  {
   "cell_type": "code",
   "execution_count": 57,
   "id": "5ec9fdcb",
   "metadata": {},
   "outputs": [
    {
     "data": {
      "text/plain": [
       "array([[115863,   1659],\n",
       "       [  1635, 115821]], dtype=int64)"
      ]
     },
     "execution_count": 57,
     "metadata": {},
     "output_type": "execute_result"
    }
   ],
   "source": [
    "confusion_matrix(y_test, kn.predict(x_test))"
   ]
  },
  {
   "cell_type": "code",
   "execution_count": 58,
   "id": "8cd53f3f",
   "metadata": {},
   "outputs": [
    {
     "data": {
      "text/plain": [
       "0.9859816663687664"
      ]
     },
     "execution_count": 58,
     "metadata": {},
     "output_type": "execute_result"
    }
   ],
   "source": [
    "accuracy_score(y_test, kn.predict(x_test))"
   ]
  },
  {
   "cell_type": "code",
   "execution_count": 59,
   "id": "5395aa42",
   "metadata": {},
   "outputs": [],
   "source": [
    "from sklearn.metrics import roc_auc_score"
   ]
  },
  {
   "cell_type": "code",
   "execution_count": 60,
   "id": "01364aa7",
   "metadata": {},
   "outputs": [
    {
     "data": {
      "text/plain": [
       "0.9913130157592711"
      ]
     },
     "execution_count": 60,
     "metadata": {},
     "output_type": "execute_result"
    }
   ],
   "source": [
    "roc_auc_score(y_train,kn_score)"
   ]
  },
  {
   "cell_type": "code",
   "execution_count": 61,
   "id": "e4c788a1",
   "metadata": {},
   "outputs": [
    {
     "data": {
      "text/plain": [
       "0.985981693950866"
      ]
     },
     "execution_count": 61,
     "metadata": {},
     "output_type": "execute_result"
    }
   ],
   "source": [
    "roc_auc_score(y_test, kn.predict(x_test))"
   ]
  },
  {
   "cell_type": "code",
   "execution_count": 62,
   "id": "02d73704",
   "metadata": {},
   "outputs": [
    {
     "data": {
      "text/plain": [
       "Index(['age', 'gender', 'merchant', 'category', 'amount'], dtype='object')"
      ]
     },
     "execution_count": 62,
     "metadata": {},
     "output_type": "execute_result"
    }
   ],
   "source": [
    "x_train.columns"
   ]
  },
  {
   "cell_type": "markdown",
   "id": "b0d9b603",
   "metadata": {},
   "source": [
    "### Approach3 Ann using Class Weights"
   ]
  },
  {
   "cell_type": "code",
   "execution_count": 63,
   "id": "b4c8e821",
   "metadata": {},
   "outputs": [],
   "source": [
    "df1 = pd.read_csv('bs140513_032310.csv')"
   ]
  },
  {
   "cell_type": "code",
   "execution_count": 64,
   "id": "f7c47e70",
   "metadata": {},
   "outputs": [
    {
     "data": {
      "text/html": [
       "<div>\n",
       "<style scoped>\n",
       "    .dataframe tbody tr th:only-of-type {\n",
       "        vertical-align: middle;\n",
       "    }\n",
       "\n",
       "    .dataframe tbody tr th {\n",
       "        vertical-align: top;\n",
       "    }\n",
       "\n",
       "    .dataframe thead th {\n",
       "        text-align: right;\n",
       "    }\n",
       "</style>\n",
       "<table border=\"1\" class=\"dataframe\">\n",
       "  <thead>\n",
       "    <tr style=\"text-align: right;\">\n",
       "      <th></th>\n",
       "      <th>step</th>\n",
       "      <th>customer</th>\n",
       "      <th>age</th>\n",
       "      <th>gender</th>\n",
       "      <th>zipcodeOri</th>\n",
       "      <th>merchant</th>\n",
       "      <th>zipMerchant</th>\n",
       "      <th>category</th>\n",
       "      <th>amount</th>\n",
       "      <th>fraud</th>\n",
       "    </tr>\n",
       "  </thead>\n",
       "  <tbody>\n",
       "    <tr>\n",
       "      <th>0</th>\n",
       "      <td>0</td>\n",
       "      <td>210</td>\n",
       "      <td>4</td>\n",
       "      <td>2</td>\n",
       "      <td>0</td>\n",
       "      <td>30</td>\n",
       "      <td>0</td>\n",
       "      <td>12</td>\n",
       "      <td>4.55</td>\n",
       "      <td>0</td>\n",
       "    </tr>\n",
       "    <tr>\n",
       "      <th>1</th>\n",
       "      <td>0</td>\n",
       "      <td>2753</td>\n",
       "      <td>2</td>\n",
       "      <td>2</td>\n",
       "      <td>0</td>\n",
       "      <td>30</td>\n",
       "      <td>0</td>\n",
       "      <td>12</td>\n",
       "      <td>39.68</td>\n",
       "      <td>0</td>\n",
       "    </tr>\n",
       "    <tr>\n",
       "      <th>2</th>\n",
       "      <td>0</td>\n",
       "      <td>2285</td>\n",
       "      <td>4</td>\n",
       "      <td>1</td>\n",
       "      <td>0</td>\n",
       "      <td>18</td>\n",
       "      <td>0</td>\n",
       "      <td>12</td>\n",
       "      <td>26.89</td>\n",
       "      <td>0</td>\n",
       "    </tr>\n",
       "    <tr>\n",
       "      <th>3</th>\n",
       "      <td>0</td>\n",
       "      <td>1650</td>\n",
       "      <td>3</td>\n",
       "      <td>2</td>\n",
       "      <td>0</td>\n",
       "      <td>30</td>\n",
       "      <td>0</td>\n",
       "      <td>12</td>\n",
       "      <td>17.25</td>\n",
       "      <td>0</td>\n",
       "    </tr>\n",
       "    <tr>\n",
       "      <th>4</th>\n",
       "      <td>0</td>\n",
       "      <td>3585</td>\n",
       "      <td>5</td>\n",
       "      <td>2</td>\n",
       "      <td>0</td>\n",
       "      <td>30</td>\n",
       "      <td>0</td>\n",
       "      <td>12</td>\n",
       "      <td>35.72</td>\n",
       "      <td>0</td>\n",
       "    </tr>\n",
       "    <tr>\n",
       "      <th>...</th>\n",
       "      <td>...</td>\n",
       "      <td>...</td>\n",
       "      <td>...</td>\n",
       "      <td>...</td>\n",
       "      <td>...</td>\n",
       "      <td>...</td>\n",
       "      <td>...</td>\n",
       "      <td>...</td>\n",
       "      <td>...</td>\n",
       "      <td>...</td>\n",
       "    </tr>\n",
       "    <tr>\n",
       "      <th>594638</th>\n",
       "      <td>179</td>\n",
       "      <td>1639</td>\n",
       "      <td>3</td>\n",
       "      <td>1</td>\n",
       "      <td>0</td>\n",
       "      <td>18</td>\n",
       "      <td>0</td>\n",
       "      <td>12</td>\n",
       "      <td>20.53</td>\n",
       "      <td>0</td>\n",
       "    </tr>\n",
       "    <tr>\n",
       "      <th>594639</th>\n",
       "      <td>179</td>\n",
       "      <td>3369</td>\n",
       "      <td>4</td>\n",
       "      <td>1</td>\n",
       "      <td>0</td>\n",
       "      <td>18</td>\n",
       "      <td>0</td>\n",
       "      <td>12</td>\n",
       "      <td>50.73</td>\n",
       "      <td>0</td>\n",
       "    </tr>\n",
       "    <tr>\n",
       "      <th>594640</th>\n",
       "      <td>179</td>\n",
       "      <td>529</td>\n",
       "      <td>2</td>\n",
       "      <td>1</td>\n",
       "      <td>0</td>\n",
       "      <td>31</td>\n",
       "      <td>0</td>\n",
       "      <td>2</td>\n",
       "      <td>22.44</td>\n",
       "      <td>0</td>\n",
       "    </tr>\n",
       "    <tr>\n",
       "      <th>594641</th>\n",
       "      <td>179</td>\n",
       "      <td>1083</td>\n",
       "      <td>5</td>\n",
       "      <td>2</td>\n",
       "      <td>0</td>\n",
       "      <td>18</td>\n",
       "      <td>0</td>\n",
       "      <td>12</td>\n",
       "      <td>14.46</td>\n",
       "      <td>0</td>\n",
       "    </tr>\n",
       "    <tr>\n",
       "      <th>594642</th>\n",
       "      <td>179</td>\n",
       "      <td>3304</td>\n",
       "      <td>4</td>\n",
       "      <td>1</td>\n",
       "      <td>0</td>\n",
       "      <td>18</td>\n",
       "      <td>0</td>\n",
       "      <td>12</td>\n",
       "      <td>26.93</td>\n",
       "      <td>0</td>\n",
       "    </tr>\n",
       "  </tbody>\n",
       "</table>\n",
       "<p>594643 rows × 10 columns</p>\n",
       "</div>"
      ],
      "text/plain": [
       "        step  customer  age  gender  zipcodeOri  merchant  zipMerchant  \\\n",
       "0          0       210    4       2           0        30            0   \n",
       "1          0      2753    2       2           0        30            0   \n",
       "2          0      2285    4       1           0        18            0   \n",
       "3          0      1650    3       2           0        30            0   \n",
       "4          0      3585    5       2           0        30            0   \n",
       "...      ...       ...  ...     ...         ...       ...          ...   \n",
       "594638   179      1639    3       1           0        18            0   \n",
       "594639   179      3369    4       1           0        18            0   \n",
       "594640   179       529    2       1           0        31            0   \n",
       "594641   179      1083    5       2           0        18            0   \n",
       "594642   179      3304    4       1           0        18            0   \n",
       "\n",
       "        category  amount  fraud  \n",
       "0             12    4.55      0  \n",
       "1             12   39.68      0  \n",
       "2             12   26.89      0  \n",
       "3             12   17.25      0  \n",
       "4             12   35.72      0  \n",
       "...          ...     ...    ...  \n",
       "594638        12   20.53      0  \n",
       "594639        12   50.73      0  \n",
       "594640         2   22.44      0  \n",
       "594641        12   14.46      0  \n",
       "594642        12   26.93      0  \n",
       "\n",
       "[594643 rows x 10 columns]"
      ]
     },
     "execution_count": 64,
     "metadata": {},
     "output_type": "execute_result"
    }
   ],
   "source": [
    "transform(df1)"
   ]
  },
  {
   "cell_type": "code",
   "execution_count": 65,
   "id": "2b4f5994",
   "metadata": {},
   "outputs": [],
   "source": [
    "y1 = df1['fraud']\n",
    "x1 = df1.drop('fraud', axis=1)"
   ]
  },
  {
   "cell_type": "code",
   "execution_count": 66,
   "id": "fc52b0ab",
   "metadata": {},
   "outputs": [],
   "source": [
    "x1.drop(['zipcodeOri','zipMerchant','step','customer'], axis=1, inplace=True)"
   ]
  },
  {
   "cell_type": "code",
   "execution_count": 67,
   "id": "49f57146",
   "metadata": {},
   "outputs": [],
   "source": [
    "x1_train, x1_test, y1_train, y1_test = train_test_split(x1, y1, test_size=0.2, random_state=54)"
   ]
  },
  {
   "cell_type": "code",
   "execution_count": 68,
   "id": "9aeb6d1c",
   "metadata": {},
   "outputs": [],
   "source": [
    "import tensorflow as tf\n",
    "from tensorflow.keras.layers import Dense\n",
    "from tensorflow.keras.models import Sequential"
   ]
  },
  {
   "cell_type": "code",
   "execution_count": 69,
   "id": "54e0dd32",
   "metadata": {},
   "outputs": [
    {
     "data": {
      "text/plain": [
       "5"
      ]
     },
     "execution_count": 69,
     "metadata": {},
     "output_type": "execute_result"
    }
   ],
   "source": [
    "len(x1_train.columns)"
   ]
  },
  {
   "cell_type": "code",
   "execution_count": 70,
   "id": "6ae432a6",
   "metadata": {},
   "outputs": [
    {
     "data": {
      "text/plain": [
       "0    587443\n",
       "1      7200\n",
       "Name: fraud, dtype: int64"
      ]
     },
     "execution_count": 70,
     "metadata": {},
     "output_type": "execute_result"
    }
   ],
   "source": [
    "df1['fraud'].value_counts()"
   ]
  },
  {
   "cell_type": "code",
   "execution_count": 71,
   "id": "b7d32feb",
   "metadata": {},
   "outputs": [
    {
     "data": {
      "text/plain": [
       "81"
      ]
     },
     "execution_count": 71,
     "metadata": {},
     "output_type": "execute_result"
    }
   ],
   "source": [
    "int(587443/7200)"
   ]
  },
  {
   "cell_type": "code",
   "execution_count": 72,
   "id": "452845d7",
   "metadata": {},
   "outputs": [],
   "source": [
    "# Class 1 is 81 time bigger than class 0\n",
    "class_weights = {0:1, 1:81}"
   ]
  },
  {
   "cell_type": "code",
   "execution_count": 73,
   "id": "2e94f5d6",
   "metadata": {},
   "outputs": [],
   "source": [
    "import os\n",
    "callback = tf.keras.callbacks.ModelCheckpoint(filepath = os.getcwd(), monitor='loss', save_best_only =True )"
   ]
  },
  {
   "cell_type": "code",
   "execution_count": 75,
   "id": "34a8dcb5",
   "metadata": {},
   "outputs": [
    {
     "name": "stdout",
     "output_type": "stream",
     "text": [
      "Epoch 1/100\n",
      "758/762 [============================>.] - ETA: 0s - loss: 0.5150 - accuracy: 0.9253INFO:tensorflow:Assets written to: C:\\Users\\rishi\\Desktop\\Projects\\Fraud Detection\\assets\n",
      "762/762 [==============================] - 6s 7ms/step - loss: 0.5143 - accuracy: 0.9254 - val_loss: 0.1135 - val_accuracy: 0.9515\n",
      "Epoch 2/100\n",
      "761/762 [============================>.] - ETA: 0s - loss: 0.3390 - accuracy: 0.9406INFO:tensorflow:Assets written to: C:\\Users\\rishi\\Desktop\\Projects\\Fraud Detection\\assets\n",
      "762/762 [==============================] - 6s 8ms/step - loss: 0.3390 - accuracy: 0.9405 - val_loss: 0.1669 - val_accuracy: 0.9294\n",
      "Epoch 3/100\n",
      "758/762 [============================>.] - ETA: 0s - loss: 0.3024 - accuracy: 0.9422INFO:tensorflow:Assets written to: C:\\Users\\rishi\\Desktop\\Projects\\Fraud Detection\\assets\n",
      "762/762 [==============================] - 6s 8ms/step - loss: 0.3023 - accuracy: 0.9423 - val_loss: 0.1408 - val_accuracy: 0.9458\n",
      "Epoch 4/100\n",
      "762/762 [==============================] - 4s 6ms/step - loss: 0.5608 - accuracy: 0.9141 - val_loss: 0.1551 - val_accuracy: 0.9389\n",
      "Epoch 5/100\n",
      "762/762 [==============================] - 4s 5ms/step - loss: 0.3153 - accuracy: 0.9416 - val_loss: 0.1725 - val_accuracy: 0.9399\n",
      "Epoch 6/100\n",
      "762/762 [==============================] - 4s 5ms/step - loss: 0.3510 - accuracy: 0.9364 - val_loss: 0.3299 - val_accuracy: 0.9523\n",
      "Epoch 7/100\n",
      "762/762 [==============================] - 4s 5ms/step - loss: 0.3309 - accuracy: 0.9375 - val_loss: 0.1156 - val_accuracy: 0.9470\n",
      "Epoch 8/100\n",
      "761/762 [============================>.] - ETA: 0s - loss: 0.2857 - accuracy: 0.9432INFO:tensorflow:Assets written to: C:\\Users\\rishi\\Desktop\\Projects\\Fraud Detection\\assets\n",
      "762/762 [==============================] - 5s 7ms/step - loss: 0.2856 - accuracy: 0.9432 - val_loss: 0.1181 - val_accuracy: 0.9482\n",
      "Epoch 9/100\n",
      "759/762 [============================>.] - ETA: 0s - loss: 0.2714 - accuracy: 0.9475INFO:tensorflow:Assets written to: C:\\Users\\rishi\\Desktop\\Projects\\Fraud Detection\\assets\n",
      "762/762 [==============================] - 7s 9ms/step - loss: 0.2710 - accuracy: 0.9476 - val_loss: 0.0936 - val_accuracy: 0.9595\n",
      "Epoch 10/100\n",
      "762/762 [==============================] - 4s 6ms/step - loss: 0.2744 - accuracy: 0.9453 - val_loss: 0.1487 - val_accuracy: 0.9499\n",
      "Epoch 11/100\n",
      "762/762 [==============================] - 4s 6ms/step - loss: 0.2778 - accuracy: 0.9459 - val_loss: 0.1286 - val_accuracy: 0.9462\n",
      "Epoch 12/100\n",
      "761/762 [============================>.] - ETA: 0s - loss: 0.2688 - accuracy: 0.9433INFO:tensorflow:Assets written to: C:\\Users\\rishi\\Desktop\\Projects\\Fraud Detection\\assets\n",
      "762/762 [==============================] - 5s 7ms/step - loss: 0.2688 - accuracy: 0.9433 - val_loss: 0.1192 - val_accuracy: 0.9433\n",
      "Epoch 13/100\n",
      "762/762 [==============================] - 4s 5ms/step - loss: 0.2927 - accuracy: 0.9387 - val_loss: 0.1383 - val_accuracy: 0.9399\n",
      "Epoch 14/100\n",
      "762/762 [==============================] - 4s 5ms/step - loss: 0.2707 - accuracy: 0.9383 - val_loss: 0.1214 - val_accuracy: 0.9458\n",
      "Epoch 15/100\n",
      "754/762 [============================>.] - ETA: 0s - loss: 0.2682 - accuracy: 0.9396INFO:tensorflow:Assets written to: C:\\Users\\rishi\\Desktop\\Projects\\Fraud Detection\\assets\n",
      "762/762 [==============================] - 5s 7ms/step - loss: 0.2673 - accuracy: 0.9396 - val_loss: 0.1166 - val_accuracy: 0.9464\n",
      "Epoch 16/100\n",
      "762/762 [==============================] - ETA: 0s - loss: 0.2571 - accuracy: 0.9438INFO:tensorflow:Assets written to: C:\\Users\\rishi\\Desktop\\Projects\\Fraud Detection\\assets\n",
      "762/762 [==============================] - 5s 7ms/step - loss: 0.2571 - accuracy: 0.9438 - val_loss: 0.1891 - val_accuracy: 0.9101\n",
      "Epoch 17/100\n",
      "762/762 [==============================] - 4s 5ms/step - loss: 0.2627 - accuracy: 0.9440 - val_loss: 0.1196 - val_accuracy: 0.9503\n",
      "Epoch 18/100\n",
      "762/762 [==============================] - 4s 5ms/step - loss: 0.2769 - accuracy: 0.9386 - val_loss: 0.1230 - val_accuracy: 0.9538\n",
      "Epoch 19/100\n",
      "762/762 [==============================] - 4s 5ms/step - loss: 0.2764 - accuracy: 0.9460 - val_loss: 0.1481 - val_accuracy: 0.9367\n",
      "Epoch 20/100\n",
      "762/762 [==============================] - 4s 5ms/step - loss: 0.2673 - accuracy: 0.9410 - val_loss: 0.1215 - val_accuracy: 0.9473\n",
      "Epoch 21/100\n",
      "762/762 [==============================] - 4s 5ms/step - loss: 0.2572 - accuracy: 0.9413 - val_loss: 0.1456 - val_accuracy: 0.9478\n",
      "Epoch 22/100\n",
      "762/762 [==============================] - 4s 5ms/step - loss: 0.4843 - accuracy: 0.9469 - val_loss: 0.0963 - val_accuracy: 0.9627\n",
      "Epoch 23/100\n",
      "758/762 [============================>.] - ETA: 0s - loss: 0.2552 - accuracy: 0.9523INFO:tensorflow:Assets written to: C:\\Users\\rishi\\Desktop\\Projects\\Fraud Detection\\assets\n",
      "762/762 [==============================] - 5s 7ms/step - loss: 0.2550 - accuracy: 0.9523 - val_loss: 0.1205 - val_accuracy: 0.9512\n",
      "Epoch 24/100\n",
      "756/762 [============================>.] - ETA: 0s - loss: 0.2505 - accuracy: 0.9489INFO:tensorflow:Assets written to: C:\\Users\\rishi\\Desktop\\Projects\\Fraud Detection\\assets\n",
      "762/762 [==============================] - 6s 8ms/step - loss: 0.2498 - accuracy: 0.9489 - val_loss: 0.1117 - val_accuracy: 0.9527\n",
      "Epoch 25/100\n",
      "757/762 [============================>.] - ETA: 0s - loss: 0.2450 - accuracy: 0.9490INFO:tensorflow:Assets written to: C:\\Users\\rishi\\Desktop\\Projects\\Fraud Detection\\assets\n",
      "762/762 [==============================] - 5s 7ms/step - loss: 0.2449 - accuracy: 0.9490 - val_loss: 0.1187 - val_accuracy: 0.9517\n",
      "Epoch 26/100\n",
      "754/762 [============================>.] - ETA: 0s - loss: 0.2385 - accuracy: 0.9517INFO:tensorflow:Assets written to: C:\\Users\\rishi\\Desktop\\Projects\\Fraud Detection\\assets\n",
      "762/762 [==============================] - 5s 7ms/step - loss: 0.2384 - accuracy: 0.9517 - val_loss: 0.1176 - val_accuracy: 0.9510\n",
      "Epoch 27/100\n",
      "762/762 [==============================] - 4s 5ms/step - loss: 0.2444 - accuracy: 0.9489 - val_loss: 0.1349 - val_accuracy: 0.9491\n",
      "Epoch 28/100\n",
      "762/762 [==============================] - 4s 5ms/step - loss: 0.2454 - accuracy: 0.9473 - val_loss: 0.1590 - val_accuracy: 0.9279\n",
      "Epoch 29/100\n",
      "762/762 [==============================] - 4s 5ms/step - loss: 0.2556 - accuracy: 0.9483 - val_loss: 0.1405 - val_accuracy: 0.9448\n",
      "Epoch 30/100\n",
      "762/762 [==============================] - 4s 5ms/step - loss: 0.2545 - accuracy: 0.9467 - val_loss: 0.1120 - val_accuracy: 0.9519\n",
      "Epoch 31/100\n",
      "755/762 [============================>.] - ETA: 0s - loss: 0.2351 - accuracy: 0.9510INFO:tensorflow:Assets written to: C:\\Users\\rishi\\Desktop\\Projects\\Fraud Detection\\assets\n",
      "762/762 [==============================] - 5s 7ms/step - loss: 0.2344 - accuracy: 0.9510 - val_loss: 0.1215 - val_accuracy: 0.9513\n",
      "Epoch 32/100\n",
      "762/762 [==============================] - 4s 5ms/step - loss: 0.2653 - accuracy: 0.9448 - val_loss: 0.1305 - val_accuracy: 0.9497\n",
      "Epoch 33/100\n",
      "762/762 [==============================] - 4s 5ms/step - loss: 0.2560 - accuracy: 0.9502 - val_loss: 0.1275 - val_accuracy: 0.9507\n",
      "Epoch 34/100\n",
      "762/762 [==============================] - 4s 5ms/step - loss: 0.2360 - accuracy: 0.9522 - val_loss: 0.1099 - val_accuracy: 0.9550\n",
      "Epoch 35/100\n",
      "762/762 [==============================] - 4s 5ms/step - loss: 0.2440 - accuracy: 0.9499 - val_loss: 0.0873 - val_accuracy: 0.9581\n",
      "Epoch 36/100\n",
      "762/762 [==============================] - 4s 5ms/step - loss: 0.2419 - accuracy: 0.9509 - val_loss: 0.1042 - val_accuracy: 0.9545\n",
      "Epoch 37/100\n",
      "762/762 [==============================] - 4s 5ms/step - loss: 0.2364 - accuracy: 0.9504 - val_loss: 0.1275 - val_accuracy: 0.9526\n",
      "Epoch 38/100\n",
      "762/762 [==============================] - 4s 5ms/step - loss: 0.2378 - accuracy: 0.9512 - val_loss: 0.1173 - val_accuracy: 0.9542\n",
      "Epoch 39/100\n",
      "762/762 [==============================] - 4s 6ms/step - loss: 0.2516 - accuracy: 0.9458 - val_loss: 0.1758 - val_accuracy: 0.9451\n",
      "Epoch 40/100\n",
      "762/762 [==============================] - 4s 6ms/step - loss: 0.2442 - accuracy: 0.9489 - val_loss: 0.1540 - val_accuracy: 0.9470\n",
      "Epoch 41/100\n",
      "762/762 [==============================] - 5s 6ms/step - loss: 0.2365 - accuracy: 0.9512 - val_loss: 0.1210 - val_accuracy: 0.9536\n",
      "Epoch 42/100\n"
     ]
    },
    {
     "name": "stdout",
     "output_type": "stream",
     "text": [
      "762/762 [==============================] - 4s 5ms/step - loss: 0.2966 - accuracy: 0.9442 - val_loss: 0.1388 - val_accuracy: 0.9421\n",
      "Epoch 43/100\n",
      "762/762 [==============================] - 4s 5ms/step - loss: 0.2396 - accuracy: 0.9472 - val_loss: 0.1207 - val_accuracy: 0.9462\n",
      "Epoch 44/100\n",
      "755/762 [============================>.] - ETA: 0s - loss: 0.2342 - accuracy: 0.9471INFO:tensorflow:Assets written to: C:\\Users\\rishi\\Desktop\\Projects\\Fraud Detection\\assets\n",
      "762/762 [==============================] - 5s 7ms/step - loss: 0.2342 - accuracy: 0.9471 - val_loss: 0.1145 - val_accuracy: 0.9489\n",
      "Epoch 45/100\n",
      "759/762 [============================>.] - ETA: 0s - loss: 0.2249 - accuracy: 0.9479INFO:tensorflow:Assets written to: C:\\Users\\rishi\\Desktop\\Projects\\Fraud Detection\\assets\n",
      "762/762 [==============================] - 5s 7ms/step - loss: 0.2247 - accuracy: 0.9479 - val_loss: 0.1241 - val_accuracy: 0.9493\n",
      "Epoch 46/100\n",
      "760/762 [============================>.] - ETA: 0s - loss: 0.2224 - accuracy: 0.9504INFO:tensorflow:Assets written to: C:\\Users\\rishi\\Desktop\\Projects\\Fraud Detection\\assets\n",
      "762/762 [==============================] - 5s 7ms/step - loss: 0.2222 - accuracy: 0.9504 - val_loss: 0.1106 - val_accuracy: 0.9533\n",
      "Epoch 47/100\n",
      "762/762 [==============================] - 4s 5ms/step - loss: 0.2284 - accuracy: 0.9491 - val_loss: 0.1152 - val_accuracy: 0.9519\n",
      "Epoch 48/100\n",
      "762/762 [==============================] - 4s 5ms/step - loss: 0.2287 - accuracy: 0.9515 - val_loss: 0.1137 - val_accuracy: 0.9509\n",
      "Epoch 49/100\n",
      "758/762 [============================>.] - ETA: 0s - loss: 0.2153 - accuracy: 0.9522INFO:tensorflow:Assets written to: C:\\Users\\rishi\\Desktop\\Projects\\Fraud Detection\\assets\n",
      "762/762 [==============================] - 5s 7ms/step - loss: 0.2151 - accuracy: 0.9522 - val_loss: 0.1150 - val_accuracy: 0.9514\n",
      "Epoch 50/100\n",
      "762/762 [==============================] - 4s 5ms/step - loss: 0.2266 - accuracy: 0.9516 - val_loss: 0.1055 - val_accuracy: 0.9553\n",
      "Epoch 51/100\n",
      "762/762 [==============================] - 4s 5ms/step - loss: 0.2201 - accuracy: 0.9511 - val_loss: 0.1154 - val_accuracy: 0.9521\n",
      "Epoch 52/100\n",
      "762/762 [==============================] - 4s 5ms/step - loss: 0.2161 - accuracy: 0.9483 - val_loss: 0.1136 - val_accuracy: 0.9508\n",
      "Epoch 53/100\n",
      "760/762 [============================>.] - ETA: 0s - loss: 0.2136 - accuracy: 0.9499INFO:tensorflow:Assets written to: C:\\Users\\rishi\\Desktop\\Projects\\Fraud Detection\\assets\n",
      "762/762 [==============================] - 5s 7ms/step - loss: 0.2137 - accuracy: 0.9499 - val_loss: 0.1230 - val_accuracy: 0.9524\n",
      "Epoch 54/100\n",
      "762/762 [==============================] - 4s 6ms/step - loss: 0.3207 - accuracy: 0.9495 - val_loss: 0.1313 - val_accuracy: 0.9447\n",
      "Epoch 55/100\n",
      "759/762 [============================>.] - ETA: 0s - loss: 0.2115 - accuracy: 0.9511INFO:tensorflow:Assets written to: C:\\Users\\rishi\\Desktop\\Projects\\Fraud Detection\\assets\n",
      "762/762 [==============================] - 5s 7ms/step - loss: 0.2114 - accuracy: 0.9511 - val_loss: 0.1123 - val_accuracy: 0.9517\n",
      "Epoch 56/100\n",
      "761/762 [============================>.] - ETA: 0s - loss: 0.2080 - accuracy: 0.9484INFO:tensorflow:Assets written to: C:\\Users\\rishi\\Desktop\\Projects\\Fraud Detection\\assets\n",
      "762/762 [==============================] - 5s 7ms/step - loss: 0.2080 - accuracy: 0.9484 - val_loss: 0.1094 - val_accuracy: 0.9480\n",
      "Epoch 57/100\n",
      "757/762 [============================>.] - ETA: 0s - loss: 0.2075 - accuracy: 0.9498INFO:tensorflow:Assets written to: C:\\Users\\rishi\\Desktop\\Projects\\Fraud Detection\\assets\n",
      "762/762 [==============================] - 5s 7ms/step - loss: 0.2071 - accuracy: 0.9498 - val_loss: 0.1114 - val_accuracy: 0.9494\n",
      "Epoch 58/100\n",
      "760/762 [============================>.] - ETA: 0s - loss: 0.2021 - accuracy: 0.9515INFO:tensorflow:Assets written to: C:\\Users\\rishi\\Desktop\\Projects\\Fraud Detection\\assets\n",
      "762/762 [==============================] - 5s 7ms/step - loss: 0.2022 - accuracy: 0.9515 - val_loss: 0.0997 - val_accuracy: 0.9525\n",
      "Epoch 59/100\n",
      "755/762 [============================>.] - ETA: 0s - loss: 0.1994 - accuracy: 0.9512INFO:tensorflow:Assets written to: C:\\Users\\rishi\\Desktop\\Projects\\Fraud Detection\\assets\n",
      "762/762 [==============================] - 5s 7ms/step - loss: 0.2006 - accuracy: 0.9511 - val_loss: 0.1045 - val_accuracy: 0.9543\n",
      "Epoch 60/100\n",
      "762/762 [==============================] - 4s 5ms/step - loss: 0.2011 - accuracy: 0.9502 - val_loss: 0.1054 - val_accuracy: 0.9483\n",
      "Epoch 61/100\n",
      "762/762 [==============================] - 4s 5ms/step - loss: 0.2168 - accuracy: 0.9457 - val_loss: 0.1208 - val_accuracy: 0.9406\n",
      "Epoch 62/100\n",
      "762/762 [==============================] - 4s 5ms/step - loss: 0.2091 - accuracy: 0.9476 - val_loss: 0.1173 - val_accuracy: 0.9449\n",
      "Epoch 63/100\n",
      "762/762 [==============================] - 4s 5ms/step - loss: 0.2125 - accuracy: 0.9469 - val_loss: 0.1161 - val_accuracy: 0.9452\n",
      "Epoch 64/100\n",
      "762/762 [==============================] - 4s 5ms/step - loss: 0.2163 - accuracy: 0.9444 - val_loss: 0.1100 - val_accuracy: 0.9453\n",
      "Epoch 65/100\n",
      "762/762 [==============================] - 4s 5ms/step - loss: 0.2156 - accuracy: 0.9428 - val_loss: 0.1195 - val_accuracy: 0.9432\n",
      "Epoch 66/100\n",
      "762/762 [==============================] - 4s 5ms/step - loss: 0.2079 - accuracy: 0.9462 - val_loss: 0.1124 - val_accuracy: 0.9491\n",
      "Epoch 67/100\n",
      "762/762 [==============================] - 4s 5ms/step - loss: 0.2063 - accuracy: 0.9452 - val_loss: 0.1097 - val_accuracy: 0.9486\n",
      "Epoch 68/100\n",
      "762/762 [==============================] - 4s 5ms/step - loss: 0.2081 - accuracy: 0.9461 - val_loss: 0.1004 - val_accuracy: 0.9506\n",
      "Epoch 69/100\n",
      "762/762 [==============================] - 4s 6ms/step - loss: 0.2062 - accuracy: 0.9472 - val_loss: 0.1152 - val_accuracy: 0.9475\n",
      "Epoch 70/100\n",
      "762/762 [==============================] - 5s 6ms/step - loss: 0.2171 - accuracy: 0.9432 - val_loss: 0.1203 - val_accuracy: 0.9421\n",
      "Epoch 71/100\n",
      "762/762 [==============================] - 4s 6ms/step - loss: 0.2404 - accuracy: 0.9365 - val_loss: 0.1063 - val_accuracy: 0.9480\n",
      "Epoch 72/100\n",
      "762/762 [==============================] - 4s 5ms/step - loss: 0.2695 - accuracy: 0.9446 - val_loss: 0.1453 - val_accuracy: 0.9390\n",
      "Epoch 73/100\n",
      "762/762 [==============================] - 4s 5ms/step - loss: 0.2126 - accuracy: 0.9460 - val_loss: 0.1679 - val_accuracy: 0.9370\n",
      "Epoch 74/100\n",
      "762/762 [==============================] - 4s 5ms/step - loss: 0.3041 - accuracy: 0.9556 - val_loss: 0.1571 - val_accuracy: 0.9605\n",
      "Epoch 75/100\n",
      "762/762 [==============================] - 4s 5ms/step - loss: 0.2664 - accuracy: 0.9572 - val_loss: 0.1645 - val_accuracy: 0.9570\n",
      "Epoch 76/100\n",
      "762/762 [==============================] - 4s 5ms/step - loss: 0.2526 - accuracy: 0.9575 - val_loss: 0.3317 - val_accuracy: 0.9277\n",
      "Epoch 77/100\n",
      "762/762 [==============================] - 4s 5ms/step - loss: 0.2346 - accuracy: 0.9542 - val_loss: 0.0939 - val_accuracy: 0.9590\n",
      "Epoch 78/100\n",
      "762/762 [==============================] - 4s 5ms/step - loss: 0.2185 - accuracy: 0.9559 - val_loss: 0.1161 - val_accuracy: 0.9553\n",
      "Epoch 79/100\n",
      "762/762 [==============================] - 4s 5ms/step - loss: 0.2118 - accuracy: 0.9557 - val_loss: 0.1180 - val_accuracy: 0.9545\n",
      "Epoch 80/100\n",
      "762/762 [==============================] - 4s 5ms/step - loss: 0.2398 - accuracy: 0.9461 - val_loss: 0.1144 - val_accuracy: 0.9545\n",
      "Epoch 81/100\n",
      "762/762 [==============================] - 4s 5ms/step - loss: 0.2192 - accuracy: 0.9526 - val_loss: 0.1129 - val_accuracy: 0.9549\n",
      "Epoch 82/100\n",
      "762/762 [==============================] - 4s 6ms/step - loss: 0.2104 - accuracy: 0.9542 - val_loss: 0.1078 - val_accuracy: 0.9552\n",
      "Epoch 83/100\n",
      "762/762 [==============================] - 4s 5ms/step - loss: 0.2768 - accuracy: 0.9448 - val_loss: 0.1022 - val_accuracy: 0.9540\n",
      "Epoch 84/100\n",
      "762/762 [==============================] - 4s 5ms/step - loss: 0.2068 - accuracy: 0.9532 - val_loss: 0.1205 - val_accuracy: 0.9550\n",
      "Epoch 85/100\n",
      "762/762 [==============================] - 4s 6ms/step - loss: 0.2227 - accuracy: 0.9483 - val_loss: 0.1086 - val_accuracy: 0.9546\n",
      "Epoch 86/100\n",
      "762/762 [==============================] - 4s 6ms/step - loss: 0.2075 - accuracy: 0.9510 - val_loss: 0.0958 - val_accuracy: 0.9583\n"
     ]
    },
    {
     "name": "stdout",
     "output_type": "stream",
     "text": [
      "Epoch 87/100\n",
      "762/762 [==============================] - 4s 6ms/step - loss: 0.2167 - accuracy: 0.9489 - val_loss: 0.1043 - val_accuracy: 0.9550\n",
      "Epoch 88/100\n",
      "762/762 [==============================] - 4s 5ms/step - loss: 0.2017 - accuracy: 0.9519 - val_loss: 0.1147 - val_accuracy: 0.9547\n",
      "Epoch 89/100\n",
      "762/762 [==============================] - 4s 5ms/step - loss: 0.2055 - accuracy: 0.9506 - val_loss: 0.1094 - val_accuracy: 0.9530\n",
      "Epoch 90/100\n",
      "762/762 [==============================] - 4s 5ms/step - loss: 0.2127 - accuracy: 0.9481 - val_loss: 0.1497 - val_accuracy: 0.9446\n",
      "Epoch 91/100\n",
      "762/762 [==============================] - 4s 5ms/step - loss: 0.2272 - accuracy: 0.9496 - val_loss: 0.1276 - val_accuracy: 0.9515\n",
      "Epoch 92/100\n",
      "762/762 [==============================] - 4s 5ms/step - loss: 0.2096 - accuracy: 0.9516 - val_loss: 0.1240 - val_accuracy: 0.9457\n",
      "Epoch 93/100\n",
      "762/762 [==============================] - 4s 5ms/step - loss: 0.2052 - accuracy: 0.9494 - val_loss: 0.1114 - val_accuracy: 0.9521\n",
      "Epoch 94/100\n",
      "757/762 [============================>.] - ETA: 0s - loss: 0.1958 - accuracy: 0.9518INFO:tensorflow:Assets written to: C:\\Users\\rishi\\Desktop\\Projects\\Fraud Detection\\assets\n",
      "762/762 [==============================] - 5s 7ms/step - loss: 0.1958 - accuracy: 0.9519 - val_loss: 0.1180 - val_accuracy: 0.9481\n",
      "Epoch 95/100\n",
      "752/762 [============================>.] - ETA: 0s - loss: 0.1918 - accuracy: 0.9508INFO:tensorflow:Assets written to: C:\\Users\\rishi\\Desktop\\Projects\\Fraud Detection\\assets\n",
      "762/762 [==============================] - 5s 7ms/step - loss: 0.1916 - accuracy: 0.9507 - val_loss: 0.0997 - val_accuracy: 0.9524\n",
      "Epoch 96/100\n",
      "762/762 [==============================] - 4s 5ms/step - loss: 0.1976 - accuracy: 0.9489 - val_loss: 0.0992 - val_accuracy: 0.9485\n",
      "Epoch 97/100\n",
      "762/762 [==============================] - 4s 5ms/step - loss: 0.1950 - accuracy: 0.9490 - val_loss: 0.1135 - val_accuracy: 0.9521\n",
      "Epoch 98/100\n",
      "762/762 [==============================] - 4s 5ms/step - loss: 0.1936 - accuracy: 0.9522 - val_loss: 0.1030 - val_accuracy: 0.9545\n",
      "Epoch 99/100\n",
      "762/762 [==============================] - 4s 5ms/step - loss: 0.3322 - accuracy: 0.9495 - val_loss: 0.1305 - val_accuracy: 0.9481\n",
      "Epoch 100/100\n",
      "762/762 [==============================] - 4s 6ms/step - loss: 0.1983 - accuracy: 0.9506 - val_loss: 0.1055 - val_accuracy: 0.9520\n"
     ]
    }
   ],
   "source": [
    "model = Sequential()\n",
    "model.add(Dense(50, input_dim=5, activation='relu', kernel_initializer='he_uniform'))\n",
    "model.add(Dense(50, activation='relu', kernel_initializer='he_uniform'))\n",
    "model.add(Dense(50, activation='relu', kernel_initializer='he_uniform'))\n",
    "model.add(Dense(30, activation='relu', kernel_initializer='he_uniform'))\n",
    "model.add(Dense(30, activation='relu', kernel_initializer='he_uniform'))\n",
    "model.add(Dense(15, activation='relu', kernel_initializer='he_uniform'))\n",
    "model.add(Dense(15, activation='relu', kernel_initializer='he_uniform'))\n",
    "model.add(Dense(5, activation='relu', kernel_initializer='he_uniform'))\n",
    "model.add(Dense(1, activation='sigmoid'))\n",
    "model.compile(loss='binary_crossentropy', \n",
    "              optimizer='adam',\n",
    "              metrics=['accuracy'])\n",
    "history = model.fit(x1_train,\n",
    "                    y1_train,\n",
    "                    batch_size=500, \n",
    "                    class_weight= class_weights, \n",
    "                    epochs=100, \n",
    "                    callbacks= callback,\n",
    "                    validation_split=0.2)"
   ]
  },
  {
   "cell_type": "code",
   "execution_count": 76,
   "id": "8ec7630f",
   "metadata": {},
   "outputs": [
    {
     "data": {
      "text/plain": [
       "<tensorflow.python.training.tracking.util.CheckpointLoadStatus at 0x288c49e2b50>"
      ]
     },
     "execution_count": 76,
     "metadata": {},
     "output_type": "execute_result"
    }
   ],
   "source": [
    "model.load_weights(os.getcwd())"
   ]
  },
  {
   "cell_type": "code",
   "execution_count": 77,
   "id": "a0841859",
   "metadata": {},
   "outputs": [],
   "source": [
    "ann_score = model.predict(x1_train)"
   ]
  },
  {
   "cell_type": "code",
   "execution_count": 82,
   "id": "35ca4f0d",
   "metadata": {},
   "outputs": [
    {
     "data": {
      "text/html": [
       "<div>\n",
       "<style scoped>\n",
       "    .dataframe tbody tr th:only-of-type {\n",
       "        vertical-align: middle;\n",
       "    }\n",
       "\n",
       "    .dataframe tbody tr th {\n",
       "        vertical-align: top;\n",
       "    }\n",
       "\n",
       "    .dataframe thead th {\n",
       "        text-align: right;\n",
       "    }\n",
       "</style>\n",
       "<table border=\"1\" class=\"dataframe\">\n",
       "  <thead>\n",
       "    <tr style=\"text-align: right;\">\n",
       "      <th></th>\n",
       "      <th>age</th>\n",
       "      <th>gender</th>\n",
       "      <th>merchant</th>\n",
       "      <th>category</th>\n",
       "      <th>amount</th>\n",
       "    </tr>\n",
       "  </thead>\n",
       "  <tbody>\n",
       "    <tr>\n",
       "      <th>53207</th>\n",
       "      <td>5</td>\n",
       "      <td>2</td>\n",
       "      <td>18</td>\n",
       "      <td>12</td>\n",
       "      <td>11.63</td>\n",
       "    </tr>\n",
       "  </tbody>\n",
       "</table>\n",
       "</div>"
      ],
      "text/plain": [
       "       age  gender  merchant  category  amount\n",
       "53207    5       2        18        12   11.63"
      ]
     },
     "execution_count": 82,
     "metadata": {},
     "output_type": "execute_result"
    }
   ],
   "source": [
    "x1_train.sample()"
   ]
  },
  {
   "cell_type": "code",
   "execution_count": 78,
   "id": "26bef243",
   "metadata": {},
   "outputs": [
    {
     "data": {
      "text/plain": [
       "numpy.ndarray"
      ]
     },
     "execution_count": 78,
     "metadata": {},
     "output_type": "execute_result"
    }
   ],
   "source": [
    "type(ann_score)"
   ]
  },
  {
   "cell_type": "code",
   "execution_count": 101,
   "id": "58b3e7c4",
   "metadata": {},
   "outputs": [
    {
     "data": {
      "text/plain": [
       "0.0"
      ]
     },
     "execution_count": 101,
     "metadata": {},
     "output_type": "execute_result"
    }
   ],
   "source": [
    "np.min(ann_score)"
   ]
  },
  {
   "cell_type": "code",
   "execution_count": 79,
   "id": "16a0ad8e",
   "metadata": {},
   "outputs": [
    {
     "data": {
      "text/plain": [
       "0.9939008385804012"
      ]
     },
     "execution_count": 79,
     "metadata": {},
     "output_type": "execute_result"
    }
   ],
   "source": [
    "roc_auc_score(y1_train, ann_score)"
   ]
  },
  {
   "cell_type": "code",
   "execution_count": 83,
   "id": "4ff72154",
   "metadata": {},
   "outputs": [],
   "source": [
    "model1 = tf.keras.models.load_model('Ann.h5')"
   ]
  },
  {
   "cell_type": "code",
   "execution_count": 164,
   "id": "62fcf42c",
   "metadata": {},
   "outputs": [
    {
     "data": {
      "text/plain": [
       "0.9947954203436837"
      ]
     },
     "execution_count": 164,
     "metadata": {},
     "output_type": "execute_result"
    }
   ],
   "source": [
    "roc_auc_score(y1_test, model.predict(x1_test))"
   ]
  },
  {
   "cell_type": "code",
   "execution_count": 188,
   "id": "26ce6e48",
   "metadata": {},
   "outputs": [
    {
     "data": {
      "text/plain": [
       "array([[ 6.  ,  2.  , 18.  , 12.  , 82.04]])"
      ]
     },
     "execution_count": 188,
     "metadata": {},
     "output_type": "execute_result"
    }
   ],
   "source": [
    "x1_train[:1].values"
   ]
  },
  {
   "cell_type": "code",
   "execution_count": 92,
   "id": "4885f5ba",
   "metadata": {},
   "outputs": [],
   "source": [
    "w= model.predict([[ 6.  ,  2.  , 18.  , 12.  , 9.04]])"
   ]
  },
  {
   "cell_type": "code",
   "execution_count": 95,
   "id": "9a193bee",
   "metadata": {},
   "outputs": [
    {
     "data": {
      "text/plain": [
       "0.0051414073"
      ]
     },
     "execution_count": 95,
     "metadata": {},
     "output_type": "execute_result"
    }
   ],
   "source": [
    "w[0][0]"
   ]
  },
  {
   "cell_type": "markdown",
   "id": "3cc0ebd6",
   "metadata": {},
   "source": [
    "### Approach4: Naive Bayes"
   ]
  },
  {
   "cell_type": "code",
   "execution_count": 138,
   "id": "90dfc464",
   "metadata": {},
   "outputs": [],
   "source": [
    "from sklearn.naive_bayes import GaussianNB"
   ]
  },
  {
   "cell_type": "code",
   "execution_count": 139,
   "id": "13432a1f",
   "metadata": {},
   "outputs": [],
   "source": [
    "nb = GaussianNB()"
   ]
  },
  {
   "cell_type": "code",
   "execution_count": 140,
   "id": "21e9421c",
   "metadata": {},
   "outputs": [
    {
     "data": {
      "text/plain": [
       "GaussianNB()"
      ]
     },
     "execution_count": 140,
     "metadata": {},
     "output_type": "execute_result"
    }
   ],
   "source": [
    "nb.fit(x_train, y_train)"
   ]
  },
  {
   "cell_type": "code",
   "execution_count": 141,
   "id": "4ea64528",
   "metadata": {},
   "outputs": [
    {
     "data": {
      "text/plain": [
       "0.9135138758261447"
      ]
     },
     "execution_count": 141,
     "metadata": {},
     "output_type": "execute_result"
    }
   ],
   "source": [
    "nb.score(x_train,y_train)"
   ]
  },
  {
   "cell_type": "code",
   "execution_count": 142,
   "id": "657d75f4",
   "metadata": {},
   "outputs": [
    {
     "data": {
      "text/plain": [
       "0.9141579211670879"
      ]
     },
     "execution_count": 142,
     "metadata": {},
     "output_type": "execute_result"
    }
   ],
   "source": [
    "nb.score(x_test, y_test)"
   ]
  },
  {
   "cell_type": "code",
   "execution_count": 143,
   "id": "c41426d4",
   "metadata": {},
   "outputs": [
    {
     "data": {
      "text/plain": [
       "0.9135138758261447"
      ]
     },
     "execution_count": 143,
     "metadata": {},
     "output_type": "execute_result"
    }
   ],
   "source": [
    "accuracy_score(y_train, nb.predict(x_train))"
   ]
  },
  {
   "cell_type": "code",
   "execution_count": 144,
   "id": "1e6c6156",
   "metadata": {},
   "outputs": [
    {
     "data": {
      "text/plain": [
       "0.9141579211670879"
      ]
     },
     "execution_count": 144,
     "metadata": {},
     "output_type": "execute_result"
    }
   ],
   "source": [
    "accuracy_score(y_test, nb.predict(x_test))"
   ]
  },
  {
   "cell_type": "code",
   "execution_count": 145,
   "id": "5eff2862",
   "metadata": {},
   "outputs": [
    {
     "data": {
      "text/plain": [
       "array([[108752,   8770],\n",
       "       [ 11401, 106055]], dtype=int64)"
      ]
     },
     "execution_count": 145,
     "metadata": {},
     "output_type": "execute_result"
    }
   ],
   "source": [
    "confusion_matrix(y_test, nb.predict(x_test))"
   ]
  },
  {
   "cell_type": "markdown",
   "id": "349981c2",
   "metadata": {},
   "source": [
    "### Approach6: Decission Tree"
   ]
  },
  {
   "cell_type": "code",
   "execution_count": 42,
   "id": "ccd7afbb",
   "metadata": {},
   "outputs": [],
   "source": [
    "from sklearn.tree import DecisionTreeClassifier"
   ]
  },
  {
   "cell_type": "code",
   "execution_count": 122,
   "id": "f91f126f",
   "metadata": {},
   "outputs": [],
   "source": [
    "tree = DecisionTreeClassifier(min_samples_split=20)"
   ]
  },
  {
   "cell_type": "code",
   "execution_count": 123,
   "id": "a528b5e1",
   "metadata": {},
   "outputs": [
    {
     "data": {
      "text/plain": [
       "DecisionTreeClassifier(min_samples_split=20)"
      ]
     },
     "execution_count": 123,
     "metadata": {},
     "output_type": "execute_result"
    }
   ],
   "source": [
    "tree.fit(x_train, y_train)"
   ]
  },
  {
   "cell_type": "code",
   "execution_count": 124,
   "id": "66e6c288",
   "metadata": {},
   "outputs": [
    {
     "data": {
      "text/plain": [
       "0.9943015699408878"
      ]
     },
     "execution_count": 124,
     "metadata": {},
     "output_type": "execute_result"
    }
   ],
   "source": [
    "tree.score(x_train,y_train)"
   ]
  },
  {
   "cell_type": "code",
   "execution_count": 125,
   "id": "dc835c7b",
   "metadata": {},
   "outputs": [
    {
     "data": {
      "text/plain": [
       "0.9887053256049503"
      ]
     },
     "execution_count": 125,
     "metadata": {},
     "output_type": "execute_result"
    }
   ],
   "source": [
    "tree.score(x_test, y_test)"
   ]
  },
  {
   "cell_type": "code",
   "execution_count": 126,
   "id": "7ae2279a",
   "metadata": {},
   "outputs": [
    {
     "data": {
      "text/plain": [
       "array([[466969,   2952],\n",
       "       [  2404, 467583]], dtype=int64)"
      ]
     },
     "execution_count": 126,
     "metadata": {},
     "output_type": "execute_result"
    }
   ],
   "source": [
    "confusion_matrix(y_train, tree.predict(x_train))"
   ]
  },
  {
   "cell_type": "code",
   "execution_count": 127,
   "id": "726edc71",
   "metadata": {},
   "outputs": [
    {
     "data": {
      "text/plain": [
       "array([[116147,   1375],\n",
       "       [  1279, 116177]], dtype=int64)"
      ]
     },
     "execution_count": 127,
     "metadata": {},
     "output_type": "execute_result"
    }
   ],
   "source": [
    "confusion_matrix(y_test, tree.predict(x_test))"
   ]
  },
  {
   "cell_type": "code",
   "execution_count": 128,
   "id": "b9ed058e",
   "metadata": {},
   "outputs": [
    {
     "data": {
      "text/plain": [
       "0.9887053256049503"
      ]
     },
     "execution_count": 128,
     "metadata": {},
     "output_type": "execute_result"
    }
   ],
   "source": [
    "accuracy_score(y_test, tree.predict(x_test))"
   ]
  },
  {
   "cell_type": "code",
   "execution_count": 112,
   "id": "a778b283",
   "metadata": {},
   "outputs": [],
   "source": [
    "from sklearn.ensemble import RandomForestClassifier"
   ]
  },
  {
   "cell_type": "code",
   "execution_count": 129,
   "id": "d3c2719b",
   "metadata": {},
   "outputs": [],
   "source": [
    "rf = RandomForestClassifier(n_estimators=10, min_samples_split=20)"
   ]
  },
  {
   "cell_type": "code",
   "execution_count": 130,
   "id": "4b4a27a1",
   "metadata": {},
   "outputs": [
    {
     "data": {
      "text/plain": [
       "RandomForestClassifier(min_samples_split=20, n_estimators=10)"
      ]
     },
     "execution_count": 130,
     "metadata": {},
     "output_type": "execute_result"
    }
   ],
   "source": [
    "rf.fit(x_train, y_train)"
   ]
  },
  {
   "cell_type": "code",
   "execution_count": 131,
   "id": "55a9125f",
   "metadata": {},
   "outputs": [
    {
     "data": {
      "text/plain": [
       "0.9934961719657669"
      ]
     },
     "execution_count": 131,
     "metadata": {},
     "output_type": "execute_result"
    }
   ],
   "source": [
    "rf.score(x_train, y_train)"
   ]
  },
  {
   "cell_type": "code",
   "execution_count": 132,
   "id": "149b25e1",
   "metadata": {},
   "outputs": [
    {
     "data": {
      "text/plain": [
       "0.9902288724901905"
      ]
     },
     "execution_count": 132,
     "metadata": {},
     "output_type": "execute_result"
    }
   ],
   "source": [
    "rf.score(x_test, y_test)"
   ]
  },
  {
   "cell_type": "code",
   "execution_count": 133,
   "id": "7cd9921f",
   "metadata": {},
   "outputs": [
    {
     "data": {
      "text/plain": [
       "array([[116043,   1479],\n",
       "       [   817, 116639]], dtype=int64)"
      ]
     },
     "execution_count": 133,
     "metadata": {},
     "output_type": "execute_result"
    }
   ],
   "source": [
    "confusion_matrix(y_test, rf.predict(x_test))"
   ]
  },
  {
   "cell_type": "code",
   "execution_count": 171,
   "id": "981ac533",
   "metadata": {},
   "outputs": [
    {
     "data": {
      "text/plain": [
       "0.990229663030964"
      ]
     },
     "execution_count": 171,
     "metadata": {},
     "output_type": "execute_result"
    }
   ],
   "source": [
    "roc_auc_score(y_test, rf.predict(x_test))"
   ]
  },
  {
   "cell_type": "code",
   "execution_count": 134,
   "id": "c8bc9d33",
   "metadata": {},
   "outputs": [
    {
     "data": {
      "text/plain": [
       "array([[465755,   4166],\n",
       "       [  1947, 468040]], dtype=int64)"
      ]
     },
     "execution_count": 134,
     "metadata": {},
     "output_type": "execute_result"
    }
   ],
   "source": [
    "confusion_matrix(y_train, rf.predict(x_train))"
   ]
  },
  {
   "cell_type": "code",
   "execution_count": 168,
   "id": "6815316f",
   "metadata": {},
   "outputs": [
    {
     "data": {
      "text/plain": [
       "array([1, 0, 1, ..., 0, 0, 0], dtype=int64)"
      ]
     },
     "execution_count": 168,
     "metadata": {},
     "output_type": "execute_result"
    }
   ],
   "source": [
    "rf.predict(x_train)"
   ]
  },
  {
   "cell_type": "code",
   "execution_count": 135,
   "id": "517627d2",
   "metadata": {},
   "outputs": [
    {
     "data": {
      "text/plain": [
       "array([0.00492365, 0.00949559, 0.21072341, 0.36175801, 0.41309934])"
      ]
     },
     "execution_count": 135,
     "metadata": {},
     "output_type": "execute_result"
    }
   ],
   "source": [
    "rf.feature_importances_"
   ]
  },
  {
   "cell_type": "code",
   "execution_count": 175,
   "id": "c44cbc61",
   "metadata": {},
   "outputs": [],
   "source": [
    "#Ann with class Weights Has perfomed best therfor we are using Ann\n",
    "model.save('Ann.h5')"
   ]
  },
  {
   "cell_type": "code",
   "execution_count": 35,
   "id": "73e2c58c",
   "metadata": {},
   "outputs": [],
   "source": [
    "import pickle\n",
    "#pickle.dump(tree, open('tree.pkl','wb'))"
   ]
  },
  {
   "cell_type": "code",
   "execution_count": 36,
   "id": "754f3598",
   "metadata": {},
   "outputs": [],
   "source": [
    "model = pickle.load(open('tree.pkl','rb'))"
   ]
  },
  {
   "cell_type": "code",
   "execution_count": 39,
   "id": "5a250a95",
   "metadata": {},
   "outputs": [],
   "source": [
    "x1 = x.drop(['step','customer'], axis=1)"
   ]
  },
  {
   "cell_type": "code",
   "execution_count": 40,
   "id": "a18146b3",
   "metadata": {},
   "outputs": [
    {
     "data": {
      "text/html": [
       "<div>\n",
       "<style scoped>\n",
       "    .dataframe tbody tr th:only-of-type {\n",
       "        vertical-align: middle;\n",
       "    }\n",
       "\n",
       "    .dataframe tbody tr th {\n",
       "        vertical-align: top;\n",
       "    }\n",
       "\n",
       "    .dataframe thead th {\n",
       "        text-align: right;\n",
       "    }\n",
       "</style>\n",
       "<table border=\"1\" class=\"dataframe\">\n",
       "  <thead>\n",
       "    <tr style=\"text-align: right;\">\n",
       "      <th></th>\n",
       "      <th>age</th>\n",
       "      <th>gender</th>\n",
       "      <th>merchant</th>\n",
       "      <th>category</th>\n",
       "      <th>amount</th>\n",
       "    </tr>\n",
       "  </thead>\n",
       "  <tbody>\n",
       "    <tr>\n",
       "      <th>0</th>\n",
       "      <td>4</td>\n",
       "      <td>2</td>\n",
       "      <td>30</td>\n",
       "      <td>12</td>\n",
       "      <td>4.55</td>\n",
       "    </tr>\n",
       "    <tr>\n",
       "      <th>1</th>\n",
       "      <td>2</td>\n",
       "      <td>2</td>\n",
       "      <td>30</td>\n",
       "      <td>12</td>\n",
       "      <td>39.68</td>\n",
       "    </tr>\n",
       "    <tr>\n",
       "      <th>2</th>\n",
       "      <td>4</td>\n",
       "      <td>1</td>\n",
       "      <td>18</td>\n",
       "      <td>12</td>\n",
       "      <td>26.89</td>\n",
       "    </tr>\n",
       "    <tr>\n",
       "      <th>3</th>\n",
       "      <td>3</td>\n",
       "      <td>2</td>\n",
       "      <td>30</td>\n",
       "      <td>12</td>\n",
       "      <td>17.25</td>\n",
       "    </tr>\n",
       "    <tr>\n",
       "      <th>4</th>\n",
       "      <td>5</td>\n",
       "      <td>2</td>\n",
       "      <td>30</td>\n",
       "      <td>12</td>\n",
       "      <td>35.72</td>\n",
       "    </tr>\n",
       "    <tr>\n",
       "      <th>...</th>\n",
       "      <td>...</td>\n",
       "      <td>...</td>\n",
       "      <td>...</td>\n",
       "      <td>...</td>\n",
       "      <td>...</td>\n",
       "    </tr>\n",
       "    <tr>\n",
       "      <th>594638</th>\n",
       "      <td>3</td>\n",
       "      <td>1</td>\n",
       "      <td>18</td>\n",
       "      <td>12</td>\n",
       "      <td>20.53</td>\n",
       "    </tr>\n",
       "    <tr>\n",
       "      <th>594639</th>\n",
       "      <td>4</td>\n",
       "      <td>1</td>\n",
       "      <td>18</td>\n",
       "      <td>12</td>\n",
       "      <td>50.73</td>\n",
       "    </tr>\n",
       "    <tr>\n",
       "      <th>594640</th>\n",
       "      <td>2</td>\n",
       "      <td>1</td>\n",
       "      <td>31</td>\n",
       "      <td>2</td>\n",
       "      <td>22.44</td>\n",
       "    </tr>\n",
       "    <tr>\n",
       "      <th>594641</th>\n",
       "      <td>5</td>\n",
       "      <td>2</td>\n",
       "      <td>18</td>\n",
       "      <td>12</td>\n",
       "      <td>14.46</td>\n",
       "    </tr>\n",
       "    <tr>\n",
       "      <th>594642</th>\n",
       "      <td>4</td>\n",
       "      <td>1</td>\n",
       "      <td>18</td>\n",
       "      <td>12</td>\n",
       "      <td>26.93</td>\n",
       "    </tr>\n",
       "  </tbody>\n",
       "</table>\n",
       "<p>594643 rows × 5 columns</p>\n",
       "</div>"
      ],
      "text/plain": [
       "        age  gender  merchant  category  amount\n",
       "0         4       2        30        12    4.55\n",
       "1         2       2        30        12   39.68\n",
       "2         4       1        18        12   26.89\n",
       "3         3       2        30        12   17.25\n",
       "4         5       2        30        12   35.72\n",
       "...     ...     ...       ...       ...     ...\n",
       "594638    3       1        18        12   20.53\n",
       "594639    4       1        18        12   50.73\n",
       "594640    2       1        31         2   22.44\n",
       "594641    5       2        18        12   14.46\n",
       "594642    4       1        18        12   26.93\n",
       "\n",
       "[594643 rows x 5 columns]"
      ]
     },
     "execution_count": 40,
     "metadata": {},
     "output_type": "execute_result"
    }
   ],
   "source": [
    "x1"
   ]
  },
  {
   "cell_type": "code",
   "execution_count": 43,
   "id": "3e8200da",
   "metadata": {},
   "outputs": [
    {
     "data": {
      "text/html": [
       "<div>\n",
       "<style scoped>\n",
       "    .dataframe tbody tr th:only-of-type {\n",
       "        vertical-align: middle;\n",
       "    }\n",
       "\n",
       "    .dataframe tbody tr th {\n",
       "        vertical-align: top;\n",
       "    }\n",
       "\n",
       "    .dataframe thead th {\n",
       "        text-align: right;\n",
       "    }\n",
       "</style>\n",
       "<table border=\"1\" class=\"dataframe\">\n",
       "  <thead>\n",
       "    <tr style=\"text-align: right;\">\n",
       "      <th></th>\n",
       "      <th>age</th>\n",
       "      <th>gender</th>\n",
       "      <th>merchant</th>\n",
       "      <th>category</th>\n",
       "      <th>amount</th>\n",
       "    </tr>\n",
       "  </thead>\n",
       "  <tbody>\n",
       "    <tr>\n",
       "      <th>0</th>\n",
       "      <td>4</td>\n",
       "      <td>2</td>\n",
       "      <td>30</td>\n",
       "      <td>12</td>\n",
       "      <td>4.55</td>\n",
       "    </tr>\n",
       "  </tbody>\n",
       "</table>\n",
       "</div>"
      ],
      "text/plain": [
       "   age  gender  merchant  category  amount\n",
       "0    4       2        30        12    4.55"
      ]
     },
     "execution_count": 43,
     "metadata": {},
     "output_type": "execute_result"
    }
   ],
   "source": [
    "x1[:1]"
   ]
  },
  {
   "cell_type": "code",
   "execution_count": 45,
   "id": "4b52cab5",
   "metadata": {},
   "outputs": [
    {
     "data": {
      "text/plain": [
       "4"
      ]
     },
     "execution_count": 45,
     "metadata": {},
     "output_type": "execute_result"
    }
   ],
   "source": [
    "[x1['age'][0], x1['gender'][0], x1['merchant'][0], x1['category'][0], "
   ]
  },
  {
   "cell_type": "code",
   "execution_count": 44,
   "id": "2215723a",
   "metadata": {},
   "outputs": [
    {
     "data": {
      "text/plain": [
       "array([0], dtype=int64)"
      ]
     },
     "execution_count": 44,
     "metadata": {},
     "output_type": "execute_result"
    }
   ],
   "source": [
    "model.predict(x1[:1])"
   ]
  },
  {
   "cell_type": "code",
   "execution_count": null,
   "id": "4dbd44b5",
   "metadata": {},
   "outputs": [],
   "source": []
  }
 ],
 "metadata": {
  "kernelspec": {
   "display_name": "Python 3 (ipykernel)",
   "language": "python",
   "name": "python3"
  },
  "language_info": {
   "codemirror_mode": {
    "name": "ipython",
    "version": 3
   },
   "file_extension": ".py",
   "mimetype": "text/x-python",
   "name": "python",
   "nbconvert_exporter": "python",
   "pygments_lexer": "ipython3",
   "version": "3.9.7"
  }
 },
 "nbformat": 4,
 "nbformat_minor": 5
}
