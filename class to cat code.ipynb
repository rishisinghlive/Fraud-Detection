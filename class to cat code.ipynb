{
 "cells": [
  {
   "cell_type": "code",
   "execution_count": 1,
   "id": "6174f651",
   "metadata": {},
   "outputs": [],
   "source": [
    "import pandas as pd\n",
    "import numpy as np"
   ]
  },
  {
   "cell_type": "code",
   "execution_count": 2,
   "id": "6514c705",
   "metadata": {},
   "outputs": [],
   "source": [
    "df = pd.read_csv('bs140513_032310.csv')"
   ]
  },
  {
   "cell_type": "code",
   "execution_count": 3,
   "id": "076c5d37",
   "metadata": {},
   "outputs": [
    {
     "data": {
      "text/html": [
       "<div>\n",
       "<style scoped>\n",
       "    .dataframe tbody tr th:only-of-type {\n",
       "        vertical-align: middle;\n",
       "    }\n",
       "\n",
       "    .dataframe tbody tr th {\n",
       "        vertical-align: top;\n",
       "    }\n",
       "\n",
       "    .dataframe thead th {\n",
       "        text-align: right;\n",
       "    }\n",
       "</style>\n",
       "<table border=\"1\" class=\"dataframe\">\n",
       "  <thead>\n",
       "    <tr style=\"text-align: right;\">\n",
       "      <th></th>\n",
       "      <th>step</th>\n",
       "      <th>customer</th>\n",
       "      <th>age</th>\n",
       "      <th>gender</th>\n",
       "      <th>zipcodeOri</th>\n",
       "      <th>merchant</th>\n",
       "      <th>zipMerchant</th>\n",
       "      <th>category</th>\n",
       "      <th>amount</th>\n",
       "      <th>fraud</th>\n",
       "    </tr>\n",
       "  </thead>\n",
       "  <tbody>\n",
       "    <tr>\n",
       "      <th>0</th>\n",
       "      <td>0</td>\n",
       "      <td>'C1093826151'</td>\n",
       "      <td>'4'</td>\n",
       "      <td>'M'</td>\n",
       "      <td>'28007'</td>\n",
       "      <td>'M348934600'</td>\n",
       "      <td>'28007'</td>\n",
       "      <td>'es_transportation'</td>\n",
       "      <td>4.55</td>\n",
       "      <td>0</td>\n",
       "    </tr>\n",
       "    <tr>\n",
       "      <th>1</th>\n",
       "      <td>0</td>\n",
       "      <td>'C352968107'</td>\n",
       "      <td>'2'</td>\n",
       "      <td>'M'</td>\n",
       "      <td>'28007'</td>\n",
       "      <td>'M348934600'</td>\n",
       "      <td>'28007'</td>\n",
       "      <td>'es_transportation'</td>\n",
       "      <td>39.68</td>\n",
       "      <td>0</td>\n",
       "    </tr>\n",
       "    <tr>\n",
       "      <th>2</th>\n",
       "      <td>0</td>\n",
       "      <td>'C2054744914'</td>\n",
       "      <td>'4'</td>\n",
       "      <td>'F'</td>\n",
       "      <td>'28007'</td>\n",
       "      <td>'M1823072687'</td>\n",
       "      <td>'28007'</td>\n",
       "      <td>'es_transportation'</td>\n",
       "      <td>26.89</td>\n",
       "      <td>0</td>\n",
       "    </tr>\n",
       "    <tr>\n",
       "      <th>3</th>\n",
       "      <td>0</td>\n",
       "      <td>'C1760612790'</td>\n",
       "      <td>'3'</td>\n",
       "      <td>'M'</td>\n",
       "      <td>'28007'</td>\n",
       "      <td>'M348934600'</td>\n",
       "      <td>'28007'</td>\n",
       "      <td>'es_transportation'</td>\n",
       "      <td>17.25</td>\n",
       "      <td>0</td>\n",
       "    </tr>\n",
       "    <tr>\n",
       "      <th>4</th>\n",
       "      <td>0</td>\n",
       "      <td>'C757503768'</td>\n",
       "      <td>'5'</td>\n",
       "      <td>'M'</td>\n",
       "      <td>'28007'</td>\n",
       "      <td>'M348934600'</td>\n",
       "      <td>'28007'</td>\n",
       "      <td>'es_transportation'</td>\n",
       "      <td>35.72</td>\n",
       "      <td>0</td>\n",
       "    </tr>\n",
       "  </tbody>\n",
       "</table>\n",
       "</div>"
      ],
      "text/plain": [
       "   step       customer  age gender zipcodeOri       merchant zipMerchant  \\\n",
       "0     0  'C1093826151'  '4'    'M'    '28007'   'M348934600'     '28007'   \n",
       "1     0   'C352968107'  '2'    'M'    '28007'   'M348934600'     '28007'   \n",
       "2     0  'C2054744914'  '4'    'F'    '28007'  'M1823072687'     '28007'   \n",
       "3     0  'C1760612790'  '3'    'M'    '28007'   'M348934600'     '28007'   \n",
       "4     0   'C757503768'  '5'    'M'    '28007'   'M348934600'     '28007'   \n",
       "\n",
       "              category  amount  fraud  \n",
       "0  'es_transportation'    4.55      0  \n",
       "1  'es_transportation'   39.68      0  \n",
       "2  'es_transportation'   26.89      0  \n",
       "3  'es_transportation'   17.25      0  \n",
       "4  'es_transportation'   35.72      0  "
      ]
     },
     "execution_count": 3,
     "metadata": {},
     "output_type": "execute_result"
    }
   ],
   "source": [
    "df.head()"
   ]
  },
  {
   "cell_type": "code",
   "execution_count": 4,
   "id": "3ab1d862",
   "metadata": {},
   "outputs": [],
   "source": [
    "x = df.drop(['step', 'customer', 'zipcodeOri', 'zipMerchant'], axis = 1)"
   ]
  },
  {
   "cell_type": "code",
   "execution_count": 5,
   "id": "8760961e",
   "metadata": {},
   "outputs": [
    {
     "data": {
      "text/html": [
       "<div>\n",
       "<style scoped>\n",
       "    .dataframe tbody tr th:only-of-type {\n",
       "        vertical-align: middle;\n",
       "    }\n",
       "\n",
       "    .dataframe tbody tr th {\n",
       "        vertical-align: top;\n",
       "    }\n",
       "\n",
       "    .dataframe thead th {\n",
       "        text-align: right;\n",
       "    }\n",
       "</style>\n",
       "<table border=\"1\" class=\"dataframe\">\n",
       "  <thead>\n",
       "    <tr style=\"text-align: right;\">\n",
       "      <th></th>\n",
       "      <th>age</th>\n",
       "      <th>gender</th>\n",
       "      <th>merchant</th>\n",
       "      <th>category</th>\n",
       "      <th>amount</th>\n",
       "      <th>fraud</th>\n",
       "    </tr>\n",
       "  </thead>\n",
       "  <tbody>\n",
       "    <tr>\n",
       "      <th>0</th>\n",
       "      <td>'4'</td>\n",
       "      <td>'M'</td>\n",
       "      <td>'M348934600'</td>\n",
       "      <td>'es_transportation'</td>\n",
       "      <td>4.55</td>\n",
       "      <td>0</td>\n",
       "    </tr>\n",
       "    <tr>\n",
       "      <th>1</th>\n",
       "      <td>'2'</td>\n",
       "      <td>'M'</td>\n",
       "      <td>'M348934600'</td>\n",
       "      <td>'es_transportation'</td>\n",
       "      <td>39.68</td>\n",
       "      <td>0</td>\n",
       "    </tr>\n",
       "    <tr>\n",
       "      <th>2</th>\n",
       "      <td>'4'</td>\n",
       "      <td>'F'</td>\n",
       "      <td>'M1823072687'</td>\n",
       "      <td>'es_transportation'</td>\n",
       "      <td>26.89</td>\n",
       "      <td>0</td>\n",
       "    </tr>\n",
       "    <tr>\n",
       "      <th>3</th>\n",
       "      <td>'3'</td>\n",
       "      <td>'M'</td>\n",
       "      <td>'M348934600'</td>\n",
       "      <td>'es_transportation'</td>\n",
       "      <td>17.25</td>\n",
       "      <td>0</td>\n",
       "    </tr>\n",
       "    <tr>\n",
       "      <th>4</th>\n",
       "      <td>'5'</td>\n",
       "      <td>'M'</td>\n",
       "      <td>'M348934600'</td>\n",
       "      <td>'es_transportation'</td>\n",
       "      <td>35.72</td>\n",
       "      <td>0</td>\n",
       "    </tr>\n",
       "    <tr>\n",
       "      <th>...</th>\n",
       "      <td>...</td>\n",
       "      <td>...</td>\n",
       "      <td>...</td>\n",
       "      <td>...</td>\n",
       "      <td>...</td>\n",
       "      <td>...</td>\n",
       "    </tr>\n",
       "    <tr>\n",
       "      <th>594638</th>\n",
       "      <td>'3'</td>\n",
       "      <td>'F'</td>\n",
       "      <td>'M1823072687'</td>\n",
       "      <td>'es_transportation'</td>\n",
       "      <td>20.53</td>\n",
       "      <td>0</td>\n",
       "    </tr>\n",
       "    <tr>\n",
       "      <th>594639</th>\n",
       "      <td>'4'</td>\n",
       "      <td>'F'</td>\n",
       "      <td>'M1823072687'</td>\n",
       "      <td>'es_transportation'</td>\n",
       "      <td>50.73</td>\n",
       "      <td>0</td>\n",
       "    </tr>\n",
       "    <tr>\n",
       "      <th>594640</th>\n",
       "      <td>'2'</td>\n",
       "      <td>'F'</td>\n",
       "      <td>'M349281107'</td>\n",
       "      <td>'es_fashion'</td>\n",
       "      <td>22.44</td>\n",
       "      <td>0</td>\n",
       "    </tr>\n",
       "    <tr>\n",
       "      <th>594641</th>\n",
       "      <td>'5'</td>\n",
       "      <td>'M'</td>\n",
       "      <td>'M1823072687'</td>\n",
       "      <td>'es_transportation'</td>\n",
       "      <td>14.46</td>\n",
       "      <td>0</td>\n",
       "    </tr>\n",
       "    <tr>\n",
       "      <th>594642</th>\n",
       "      <td>'4'</td>\n",
       "      <td>'F'</td>\n",
       "      <td>'M1823072687'</td>\n",
       "      <td>'es_transportation'</td>\n",
       "      <td>26.93</td>\n",
       "      <td>0</td>\n",
       "    </tr>\n",
       "  </tbody>\n",
       "</table>\n",
       "<p>594643 rows × 6 columns</p>\n",
       "</div>"
      ],
      "text/plain": [
       "        age gender       merchant             category  amount  fraud\n",
       "0       '4'    'M'   'M348934600'  'es_transportation'    4.55      0\n",
       "1       '2'    'M'   'M348934600'  'es_transportation'   39.68      0\n",
       "2       '4'    'F'  'M1823072687'  'es_transportation'   26.89      0\n",
       "3       '3'    'M'   'M348934600'  'es_transportation'   17.25      0\n",
       "4       '5'    'M'   'M348934600'  'es_transportation'   35.72      0\n",
       "...     ...    ...            ...                  ...     ...    ...\n",
       "594638  '3'    'F'  'M1823072687'  'es_transportation'   20.53      0\n",
       "594639  '4'    'F'  'M1823072687'  'es_transportation'   50.73      0\n",
       "594640  '2'    'F'   'M349281107'         'es_fashion'   22.44      0\n",
       "594641  '5'    'M'  'M1823072687'  'es_transportation'   14.46      0\n",
       "594642  '4'    'F'  'M1823072687'  'es_transportation'   26.93      0\n",
       "\n",
       "[594643 rows x 6 columns]"
      ]
     },
     "execution_count": 5,
     "metadata": {},
     "output_type": "execute_result"
    }
   ],
   "source": [
    "x"
   ]
  },
  {
   "cell_type": "code",
   "execution_count": 6,
   "id": "5c0aad60",
   "metadata": {},
   "outputs": [],
   "source": [
    "variable1 = x.age.astype('category').cat.codes"
   ]
  },
  {
   "cell_type": "code",
   "execution_count": 7,
   "id": "a2254c1c",
   "metadata": {},
   "outputs": [
    {
     "data": {
      "text/plain": [
       "array([4, 2, 3, 5, 1, 6, 7, 0], dtype=int8)"
      ]
     },
     "execution_count": 7,
     "metadata": {},
     "output_type": "execute_result"
    }
   ],
   "source": [
    "variable1.unique()"
   ]
  },
  {
   "cell_type": "code",
   "execution_count": 8,
   "id": "761eaaeb",
   "metadata": {},
   "outputs": [
    {
     "data": {
      "text/plain": [
       "array([\"'4'\", \"'2'\", \"'3'\", \"'5'\", \"'1'\", \"'6'\", \"'U'\", \"'0'\"],\n",
       "      dtype=object)"
      ]
     },
     "execution_count": 8,
     "metadata": {},
     "output_type": "execute_result"
    }
   ],
   "source": [
    "x.age.unique()"
   ]
  },
  {
   "cell_type": "code",
   "execution_count": 9,
   "id": "2aa23738",
   "metadata": {},
   "outputs": [
    {
     "data": {
      "text/plain": [
       "array([\"'M'\", \"'F'\", \"'E'\", \"'U'\"], dtype=object)"
      ]
     },
     "execution_count": 9,
     "metadata": {},
     "output_type": "execute_result"
    }
   ],
   "source": [
    "x.gender.unique()"
   ]
  },
  {
   "cell_type": "code",
   "execution_count": 10,
   "id": "30f25700",
   "metadata": {},
   "outputs": [
    {
     "data": {
      "text/plain": [
       "array([2, 1, 0, 3], dtype=int8)"
      ]
     },
     "execution_count": 10,
     "metadata": {},
     "output_type": "execute_result"
    }
   ],
   "source": [
    "x.gender.astype('category').cat.codes.unique()"
   ]
  },
  {
   "cell_type": "code",
   "execution_count": 11,
   "id": "38dcd720",
   "metadata": {},
   "outputs": [
    {
     "data": {
      "text/plain": [
       "'F'    324565\n",
       "'M'    268385\n",
       "'E'      1178\n",
       "'U'       515\n",
       "Name: gender, dtype: int64"
      ]
     },
     "execution_count": 11,
     "metadata": {},
     "output_type": "execute_result"
    }
   ],
   "source": [
    "x.gender.value_counts()"
   ]
  },
  {
   "cell_type": "code",
   "execution_count": 12,
   "id": "4facd15f",
   "metadata": {},
   "outputs": [],
   "source": [
    "var = [\"'M'\", \"'F'\", \"'E'\", \"'U'\"]"
   ]
  },
  {
   "cell_type": "code",
   "execution_count": 13,
   "id": "dcb16202",
   "metadata": {},
   "outputs": [],
   "source": [
    "m = {'M':1, 'F':2, 'E':3, 'U':4}"
   ]
  },
  {
   "cell_type": "code",
   "execution_count": 14,
   "id": "6b4d5669",
   "metadata": {},
   "outputs": [
    {
     "data": {
      "text/plain": [
       "array([\"'4'\", \"'2'\", \"'3'\", \"'5'\", \"'1'\", \"'6'\", \"'U'\", \"'0'\"],\n",
       "      dtype=object)"
      ]
     },
     "execution_count": 14,
     "metadata": {},
     "output_type": "execute_result"
    }
   ],
   "source": [
    "x['age'].unique()"
   ]
  },
  {
   "cell_type": "code",
   "execution_count": 15,
   "id": "5651a4b4",
   "metadata": {},
   "outputs": [
    {
     "data": {
      "text/plain": [
       "array([4, 2, 3, 5, 1, 6, 7, 0], dtype=int8)"
      ]
     },
     "execution_count": 15,
     "metadata": {},
     "output_type": "execute_result"
    }
   ],
   "source": [
    "x['age'].astype('category').cat.codes.unique()"
   ]
  },
  {
   "cell_type": "code",
   "execution_count": 16,
   "id": "a364a764",
   "metadata": {},
   "outputs": [],
   "source": [
    "columns = ['46-55','26-35','36-45','56-65','19-25','Above 65', 'Unknown', '0-18']"
   ]
  },
  {
   "cell_type": "code",
   "execution_count": 17,
   "id": "7e831e8d",
   "metadata": {},
   "outputs": [],
   "source": [
    "age = pd.DataFrame(data = [4, 2, 3, 5, 1, 6, 7, 0])"
   ]
  },
  {
   "cell_type": "code",
   "execution_count": 18,
   "id": "766c0bfa",
   "metadata": {},
   "outputs": [],
   "source": [
    "age['category'] = columns"
   ]
  },
  {
   "cell_type": "code",
   "execution_count": 19,
   "id": "2f43ed95",
   "metadata": {},
   "outputs": [
    {
     "data": {
      "text/html": [
       "<div>\n",
       "<style scoped>\n",
       "    .dataframe tbody tr th:only-of-type {\n",
       "        vertical-align: middle;\n",
       "    }\n",
       "\n",
       "    .dataframe tbody tr th {\n",
       "        vertical-align: top;\n",
       "    }\n",
       "\n",
       "    .dataframe thead th {\n",
       "        text-align: right;\n",
       "    }\n",
       "</style>\n",
       "<table border=\"1\" class=\"dataframe\">\n",
       "  <thead>\n",
       "    <tr style=\"text-align: right;\">\n",
       "      <th></th>\n",
       "      <th>0</th>\n",
       "      <th>category</th>\n",
       "    </tr>\n",
       "  </thead>\n",
       "  <tbody>\n",
       "    <tr>\n",
       "      <th>0</th>\n",
       "      <td>4</td>\n",
       "      <td>46-55</td>\n",
       "    </tr>\n",
       "    <tr>\n",
       "      <th>1</th>\n",
       "      <td>2</td>\n",
       "      <td>26-35</td>\n",
       "    </tr>\n",
       "    <tr>\n",
       "      <th>2</th>\n",
       "      <td>3</td>\n",
       "      <td>36-45</td>\n",
       "    </tr>\n",
       "    <tr>\n",
       "      <th>3</th>\n",
       "      <td>5</td>\n",
       "      <td>56-65</td>\n",
       "    </tr>\n",
       "    <tr>\n",
       "      <th>4</th>\n",
       "      <td>1</td>\n",
       "      <td>19-25</td>\n",
       "    </tr>\n",
       "    <tr>\n",
       "      <th>5</th>\n",
       "      <td>6</td>\n",
       "      <td>Above 65</td>\n",
       "    </tr>\n",
       "    <tr>\n",
       "      <th>6</th>\n",
       "      <td>7</td>\n",
       "      <td>Unknown</td>\n",
       "    </tr>\n",
       "    <tr>\n",
       "      <th>7</th>\n",
       "      <td>0</td>\n",
       "      <td>0-18</td>\n",
       "    </tr>\n",
       "  </tbody>\n",
       "</table>\n",
       "</div>"
      ],
      "text/plain": [
       "   0  category\n",
       "0  4     46-55\n",
       "1  2     26-35\n",
       "2  3     36-45\n",
       "3  5     56-65\n",
       "4  1     19-25\n",
       "5  6  Above 65\n",
       "6  7   Unknown\n",
       "7  0      0-18"
      ]
     },
     "execution_count": 19,
     "metadata": {},
     "output_type": "execute_result"
    }
   ],
   "source": [
    "age"
   ]
  },
  {
   "cell_type": "code",
   "execution_count": 21,
   "id": "1d8ae2d8",
   "metadata": {},
   "outputs": [],
   "source": [
    "age = pd.DataFrame({'46-55':[4],\n",
    "                   '26-35':[2],\n",
    "                   '36-45':[3],\n",
    "                   '56-65':[5],\n",
    "                   '19-25':[1],\n",
    "                   'Above 65':[6],\n",
    "                   'Unknown':[7],\n",
    "                   '0-18':[0]})"
   ]
  },
  {
   "cell_type": "code",
   "execution_count": 22,
   "id": "fc44125f",
   "metadata": {},
   "outputs": [
    {
     "data": {
      "text/html": [
       "<div>\n",
       "<style scoped>\n",
       "    .dataframe tbody tr th:only-of-type {\n",
       "        vertical-align: middle;\n",
       "    }\n",
       "\n",
       "    .dataframe tbody tr th {\n",
       "        vertical-align: top;\n",
       "    }\n",
       "\n",
       "    .dataframe thead th {\n",
       "        text-align: right;\n",
       "    }\n",
       "</style>\n",
       "<table border=\"1\" class=\"dataframe\">\n",
       "  <thead>\n",
       "    <tr style=\"text-align: right;\">\n",
       "      <th></th>\n",
       "      <th>46-55</th>\n",
       "      <th>26-35</th>\n",
       "      <th>36-45</th>\n",
       "      <th>56-65</th>\n",
       "      <th>19-25</th>\n",
       "      <th>Above 65</th>\n",
       "      <th>Unknown</th>\n",
       "      <th>0-18</th>\n",
       "    </tr>\n",
       "  </thead>\n",
       "  <tbody>\n",
       "    <tr>\n",
       "      <th>0</th>\n",
       "      <td>4</td>\n",
       "      <td>2</td>\n",
       "      <td>3</td>\n",
       "      <td>5</td>\n",
       "      <td>1</td>\n",
       "      <td>6</td>\n",
       "      <td>7</td>\n",
       "      <td>0</td>\n",
       "    </tr>\n",
       "  </tbody>\n",
       "</table>\n",
       "</div>"
      ],
      "text/plain": [
       "   46-55  26-35  36-45  56-65  19-25  Above 65  Unknown  0-18\n",
       "0      4      2      3      5      1         6        7     0"
      ]
     },
     "execution_count": 22,
     "metadata": {},
     "output_type": "execute_result"
    }
   ],
   "source": [
    "age"
   ]
  },
  {
   "cell_type": "code",
   "execution_count": 23,
   "id": "442a43c7",
   "metadata": {},
   "outputs": [
    {
     "data": {
      "text/plain": [
       "3"
      ]
     },
     "execution_count": 23,
     "metadata": {},
     "output_type": "execute_result"
    }
   ],
   "source": [
    "age['36-45'][0]"
   ]
  },
  {
   "cell_type": "code",
   "execution_count": 24,
   "id": "5fb1dd95",
   "metadata": {},
   "outputs": [],
   "source": [
    "ls = [age['36-45'][0]]"
   ]
  },
  {
   "cell_type": "code",
   "execution_count": 25,
   "id": "9392bc3f",
   "metadata": {},
   "outputs": [],
   "source": [
    "ls = [ls]"
   ]
  },
  {
   "cell_type": "code",
   "execution_count": 26,
   "id": "df3d4502",
   "metadata": {},
   "outputs": [
    {
     "data": {
      "text/plain": [
       "[[3]]"
      ]
     },
     "execution_count": 26,
     "metadata": {},
     "output_type": "execute_result"
    }
   ],
   "source": [
    "ls"
   ]
  },
  {
   "cell_type": "code",
   "execution_count": 27,
   "id": "36658fbc",
   "metadata": {},
   "outputs": [
    {
     "data": {
      "text/plain": [
       "4"
      ]
     },
     "execution_count": 27,
     "metadata": {},
     "output_type": "execute_result"
    }
   ],
   "source": [
    "age['46-55'][0]"
   ]
  },
  {
   "cell_type": "code",
   "execution_count": 28,
   "id": "bf9030c3",
   "metadata": {},
   "outputs": [
    {
     "data": {
      "text/plain": [
       "4"
      ]
     },
     "execution_count": 28,
     "metadata": {},
     "output_type": "execute_result"
    }
   ],
   "source": [
    "age['46-55'][0]"
   ]
  },
  {
   "cell_type": "code",
   "execution_count": 29,
   "id": "10ae59b3",
   "metadata": {},
   "outputs": [
    {
     "data": {
      "text/plain": [
       "Index(['46-55', '26-35', '36-45', '56-65', '19-25', 'Above 65', 'Unknown',\n",
       "       '0-18'],\n",
       "      dtype='object')"
      ]
     },
     "execution_count": 29,
     "metadata": {},
     "output_type": "execute_result"
    }
   ],
   "source": [
    "age.columns"
   ]
  },
  {
   "cell_type": "code",
   "execution_count": 30,
   "id": "07095c64",
   "metadata": {},
   "outputs": [
    {
     "data": {
      "text/plain": [
       "array([\"'M'\", \"'F'\", \"'E'\", \"'U'\"], dtype=object)"
      ]
     },
     "execution_count": 30,
     "metadata": {},
     "output_type": "execute_result"
    }
   ],
   "source": [
    "x['gender'].unique()"
   ]
  },
  {
   "cell_type": "code",
   "execution_count": 31,
   "id": "e69e23ad",
   "metadata": {},
   "outputs": [
    {
     "data": {
      "text/plain": [
       "array([2, 1, 0, 3], dtype=int8)"
      ]
     },
     "execution_count": 31,
     "metadata": {},
     "output_type": "execute_result"
    }
   ],
   "source": [
    "x['gender'].astype('category').cat.codes.unique()"
   ]
  },
  {
   "cell_type": "code",
   "execution_count": 32,
   "id": "50e47ee9",
   "metadata": {},
   "outputs": [],
   "source": [
    "gender = pd.DataFrame({'Male':[2],\n",
    "                      'Female':[1],\n",
    "                      'Enterprise':[0],\n",
    "                      'Unknown': [3]})"
   ]
  },
  {
   "cell_type": "code",
   "execution_count": 33,
   "id": "287ed777",
   "metadata": {},
   "outputs": [
    {
     "data": {
      "text/html": [
       "<div>\n",
       "<style scoped>\n",
       "    .dataframe tbody tr th:only-of-type {\n",
       "        vertical-align: middle;\n",
       "    }\n",
       "\n",
       "    .dataframe tbody tr th {\n",
       "        vertical-align: top;\n",
       "    }\n",
       "\n",
       "    .dataframe thead th {\n",
       "        text-align: right;\n",
       "    }\n",
       "</style>\n",
       "<table border=\"1\" class=\"dataframe\">\n",
       "  <thead>\n",
       "    <tr style=\"text-align: right;\">\n",
       "      <th></th>\n",
       "      <th>Male</th>\n",
       "      <th>Female</th>\n",
       "      <th>Enterprise</th>\n",
       "      <th>Unknown</th>\n",
       "    </tr>\n",
       "  </thead>\n",
       "  <tbody>\n",
       "    <tr>\n",
       "      <th>0</th>\n",
       "      <td>2</td>\n",
       "      <td>1</td>\n",
       "      <td>0</td>\n",
       "      <td>3</td>\n",
       "    </tr>\n",
       "  </tbody>\n",
       "</table>\n",
       "</div>"
      ],
      "text/plain": [
       "   Male  Female  Enterprise  Unknown\n",
       "0     2       1           0        3"
      ]
     },
     "execution_count": 33,
     "metadata": {},
     "output_type": "execute_result"
    }
   ],
   "source": [
    "gender"
   ]
  },
  {
   "cell_type": "code",
   "execution_count": 34,
   "id": "55178ce2",
   "metadata": {},
   "outputs": [],
   "source": [
    "ls = [age['46-55'][0], gender['Male'][0]]"
   ]
  },
  {
   "cell_type": "code",
   "execution_count": 35,
   "id": "d8977be9",
   "metadata": {},
   "outputs": [
    {
     "data": {
      "text/plain": [
       "[4, 2]"
      ]
     },
     "execution_count": 35,
     "metadata": {},
     "output_type": "execute_result"
    }
   ],
   "source": [
    "ls"
   ]
  },
  {
   "cell_type": "code",
   "execution_count": 36,
   "id": "99bae52a",
   "metadata": {},
   "outputs": [
    {
     "data": {
      "text/plain": [
       "array([\"'M348934600'\", \"'M1823072687'\", \"'M50039827'\", \"'M1888755466'\",\n",
       "       \"'M1053599405'\", \"'M85975013'\", \"'M480139044'\", \"'M692898500'\",\n",
       "       \"'M348875670'\", \"'M151143676'\", \"'M840466850'\", \"'M1741626453'\",\n",
       "       \"'M1535107174'\", \"'M855959430'\", \"'M349281107'\", \"'M209847108'\",\n",
       "       \"'M2122776122'\", \"'M1873032707'\", \"'M2011752106'\", \"'M857378720'\",\n",
       "       \"'M1198415165'\", \"'M1748431652'\", \"'M980657600'\", \"'M1352454843'\",\n",
       "       \"'M117188757'\", \"'M547558035'\", \"'M17379832'\", \"'M1649169323'\",\n",
       "       \"'M1946091778'\", \"'M97925176'\", \"'M923029380'\", \"'M1353266412'\",\n",
       "       \"'M1842530320'\", \"'M677738360'\", \"'M1313686961'\", \"'M732195782'\",\n",
       "       \"'M1600850729'\", \"'M1872033263'\", \"'M3697346'\", \"'M495352832'\",\n",
       "       \"'M1400236507'\", \"'M1294758098'\", \"'M1913465890'\", \"'M45060432'\",\n",
       "       \"'M78078399'\", \"'M2080407379'\", \"'M1788569036'\", \"'M1416436880'\",\n",
       "       \"'M933210764'\", \"'M1726401631'\"], dtype=object)"
      ]
     },
     "execution_count": 36,
     "metadata": {},
     "output_type": "execute_result"
    }
   ],
   "source": [
    "x['merchant'].unique()"
   ]
  },
  {
   "cell_type": "code",
   "execution_count": 37,
   "id": "1427555b",
   "metadata": {},
   "outputs": [],
   "source": [
    "merchant = pd.DataFrame()"
   ]
  },
  {
   "cell_type": "code",
   "execution_count": 38,
   "id": "7ebdd3ad",
   "metadata": {},
   "outputs": [],
   "source": [
    "merchant['Merch'] = ['M348934600', 'M1823072687', 'M50039827', 'M1888755466',\n",
    "       'M1053599405', 'M85975013', 'M480139044', 'M692898500',\n",
    "       'M348875670', 'M151143676', 'M840466850', 'M1741626453',\n",
    "       'M1535107174', 'M855959430', 'M349281107', 'M209847108',\n",
    "       'M2122776122', 'M1873032707', 'M2011752106', 'M857378720',\n",
    "       'M1198415165', 'M1748431652', 'M980657600', 'M1352454843',\n",
    "       'M117188757', 'M547558035', 'M17379832', 'M1649169323',\n",
    "       'M1946091778', 'M97925176', 'M923029380', 'M1353266412',\n",
    "       'M1842530320', 'M677738360', 'M1313686961', 'M732195782',\n",
    "       'M1600850729', 'M1872033263', 'M3697346', 'M495352832',\n",
    "       'M1400236507', 'M1294758098', 'M1913465890', 'M45060432',\n",
    "       'M78078399', 'M2080407379', 'M1788569036', 'M1416436880',\n",
    "       'M933210764', 'M1726401631']"
   ]
  },
  {
   "cell_type": "code",
   "execution_count": 39,
   "id": "aee647fe",
   "metadata": {},
   "outputs": [
    {
     "data": {
      "text/plain": [
       "array([30, 18, 36, 22,  0, 45, 34, 39, 29,  9, 42, 15, 10, 43, 31, 27, 28,\n",
       "       21, 25, 44,  2, 16, 49,  5,  1, 37, 14, 12, 24, 48, 46,  6, 19, 38,\n",
       "        4, 40, 11, 20, 32, 35,  7,  3, 23, 33, 41, 26, 17,  8, 47, 13],\n",
       "      dtype=int8)"
      ]
     },
     "execution_count": 39,
     "metadata": {},
     "output_type": "execute_result"
    }
   ],
   "source": [
    "x['merchant'].astype('category').cat.codes.unique()"
   ]
  },
  {
   "cell_type": "code",
   "execution_count": 40,
   "id": "431d359d",
   "metadata": {},
   "outputs": [],
   "source": [
    "merchant['code'] = [30, 18, 36, 22,  0, 45, 34, 39, 29,  9, 42, 15, 10, 43, 31, 27, 28,\n",
    "       21, 25, 44,  2, 16, 49,  5,  1, 37, 14, 12, 24, 48, 46,  6, 19, 38,\n",
    "        4, 40, 11, 20, 32, 35,  7,  3, 23, 33, 41, 26, 17,  8, 47, 13]"
   ]
  },
  {
   "cell_type": "code",
   "execution_count": 41,
   "id": "c4a6de5a",
   "metadata": {},
   "outputs": [
    {
     "data": {
      "text/plain": [
       "0    30\n",
       "Name: code, dtype: int64"
      ]
     },
     "execution_count": 41,
     "metadata": {},
     "output_type": "execute_result"
    }
   ],
   "source": [
    "merchant.iloc[:1]['code']"
   ]
  },
  {
   "cell_type": "code",
   "execution_count": 42,
   "id": "0281b091",
   "metadata": {},
   "outputs": [],
   "source": [
    "merchant = pd.Series(merchant['code'].values, index=merchant['Merch']).to_dict()"
   ]
  },
  {
   "cell_type": "code",
   "execution_count": 47,
   "id": "a33c0757",
   "metadata": {},
   "outputs": [
    {
     "name": "stdout",
     "output_type": "stream",
     "text": [
      "{'M348934600': 30, 'M1823072687': 18, 'M50039827': 36, 'M1888755466': 22, 'M1053599405': 0, 'M85975013': 45, 'M480139044': 34, 'M692898500': 39, 'M348875670': 29, 'M151143676': 9, 'M840466850': 42, 'M1741626453': 15, 'M1535107174': 10, 'M855959430': 43, 'M349281107': 31, 'M209847108': 27, 'M2122776122': 28, 'M1873032707': 21, 'M2011752106': 25, 'M857378720': 44, 'M1198415165': 2, 'M1748431652': 16, 'M980657600': 49, 'M1352454843': 5, 'M117188757': 1, 'M547558035': 37, 'M17379832': 14, 'M1649169323': 12, 'M1946091778': 24, 'M97925176': 48, 'M923029380': 46, 'M1353266412': 6, 'M1842530320': 19, 'M677738360': 38, 'M1313686961': 4, 'M732195782': 40, 'M1600850729': 11, 'M1872033263': 20, 'M3697346': 32, 'M495352832': 35, 'M1400236507': 7, 'M1294758098': 3, 'M1913465890': 23, 'M45060432': 33, 'M78078399': 41, 'M2080407379': 26, 'M1788569036': 17, 'M1416436880': 8, 'M933210764': 47, 'M1726401631': 13}\n"
     ]
    }
   ],
   "source": [
    "print(merchant)"
   ]
  },
  {
   "cell_type": "code",
   "execution_count": 235,
   "id": "f40cbce9",
   "metadata": {},
   "outputs": [],
   "source": [
    "merchant = pd.DataFrame(merchant,index=range(0,50))"
   ]
  },
  {
   "cell_type": "code",
   "execution_count": 236,
   "id": "53c22ae6",
   "metadata": {},
   "outputs": [],
   "source": [
    "merchant = merchant[:1]"
   ]
  },
  {
   "cell_type": "code",
   "execution_count": 237,
   "id": "cccbfa6c",
   "metadata": {},
   "outputs": [
    {
     "data": {
      "text/html": [
       "<div>\n",
       "<style scoped>\n",
       "    .dataframe tbody tr th:only-of-type {\n",
       "        vertical-align: middle;\n",
       "    }\n",
       "\n",
       "    .dataframe tbody tr th {\n",
       "        vertical-align: top;\n",
       "    }\n",
       "\n",
       "    .dataframe thead th {\n",
       "        text-align: right;\n",
       "    }\n",
       "</style>\n",
       "<table border=\"1\" class=\"dataframe\">\n",
       "  <thead>\n",
       "    <tr style=\"text-align: right;\">\n",
       "      <th></th>\n",
       "      <th>M348934600</th>\n",
       "      <th>M1823072687</th>\n",
       "      <th>M50039827</th>\n",
       "      <th>M1888755466</th>\n",
       "      <th>M1053599405</th>\n",
       "      <th>M85975013</th>\n",
       "      <th>M480139044</th>\n",
       "      <th>M692898500</th>\n",
       "      <th>M348875670</th>\n",
       "      <th>M151143676</th>\n",
       "      <th>...</th>\n",
       "      <th>M1400236507</th>\n",
       "      <th>M1294758098</th>\n",
       "      <th>M1913465890</th>\n",
       "      <th>M45060432</th>\n",
       "      <th>M78078399</th>\n",
       "      <th>M2080407379</th>\n",
       "      <th>M1788569036</th>\n",
       "      <th>M1416436880</th>\n",
       "      <th>M933210764</th>\n",
       "      <th>M1726401631</th>\n",
       "    </tr>\n",
       "  </thead>\n",
       "  <tbody>\n",
       "    <tr>\n",
       "      <th>0</th>\n",
       "      <td>30</td>\n",
       "      <td>18</td>\n",
       "      <td>36</td>\n",
       "      <td>22</td>\n",
       "      <td>0</td>\n",
       "      <td>45</td>\n",
       "      <td>34</td>\n",
       "      <td>39</td>\n",
       "      <td>29</td>\n",
       "      <td>9</td>\n",
       "      <td>...</td>\n",
       "      <td>7</td>\n",
       "      <td>3</td>\n",
       "      <td>23</td>\n",
       "      <td>33</td>\n",
       "      <td>41</td>\n",
       "      <td>26</td>\n",
       "      <td>17</td>\n",
       "      <td>8</td>\n",
       "      <td>47</td>\n",
       "      <td>13</td>\n",
       "    </tr>\n",
       "  </tbody>\n",
       "</table>\n",
       "<p>1 rows × 50 columns</p>\n",
       "</div>"
      ],
      "text/plain": [
       "   M348934600  M1823072687  M50039827  M1888755466  M1053599405  M85975013  \\\n",
       "0          30           18         36           22            0         45   \n",
       "\n",
       "   M480139044  M692898500  M348875670  M151143676  ...  M1400236507  \\\n",
       "0          34          39          29           9  ...            7   \n",
       "\n",
       "   M1294758098  M1913465890  M45060432  M78078399  M2080407379  M1788569036  \\\n",
       "0            3           23         33         41           26           17   \n",
       "\n",
       "   M1416436880  M933210764  M1726401631  \n",
       "0            8          47           13  \n",
       "\n",
       "[1 rows x 50 columns]"
      ]
     },
     "execution_count": 237,
     "metadata": {},
     "output_type": "execute_result"
    }
   ],
   "source": [
    "merchant"
   ]
  },
  {
   "cell_type": "code",
   "execution_count": 227,
   "id": "f2fa41c4",
   "metadata": {},
   "outputs": [
    {
     "data": {
      "text/plain": [
       "array([\"'es_transportation'\", \"'es_health'\", \"'es_otherservices'\",\n",
       "       \"'es_food'\", \"'es_hotelservices'\", \"'es_barsandrestaurants'\",\n",
       "       \"'es_tech'\", \"'es_sportsandtoys'\", \"'es_wellnessandbeauty'\",\n",
       "       \"'es_hyper'\", \"'es_fashion'\", \"'es_home'\", \"'es_contents'\",\n",
       "       \"'es_travel'\", \"'es_leisure'\"], dtype=object)"
      ]
     },
     "execution_count": 227,
     "metadata": {},
     "output_type": "execute_result"
    }
   ],
   "source": [
    "x['category'].unique()"
   ]
  },
  {
   "cell_type": "code",
   "execution_count": 238,
   "id": "e6cd8132",
   "metadata": {},
   "outputs": [
    {
     "data": {
      "text/plain": [
       "array([12,  4,  9,  3,  6,  0, 11, 10, 14,  7,  2,  5,  1, 13,  8],\n",
       "      dtype=int8)"
      ]
     },
     "execution_count": 238,
     "metadata": {},
     "output_type": "execute_result"
    }
   ],
   "source": [
    "x['category'].astype('category').cat.codes.unique()"
   ]
  },
  {
   "cell_type": "code",
   "execution_count": 239,
   "id": "7e2e76f2",
   "metadata": {},
   "outputs": [],
   "source": [
    "category = pd.DataFrame()"
   ]
  },
  {
   "cell_type": "code",
   "execution_count": 240,
   "id": "a8dee956",
   "metadata": {},
   "outputs": [],
   "source": [
    "category['cat'] = ['Transportation', 'Health', 'Other services',\n",
    "       'Food', 'Hotel services', 'Bars and Restaurants',\n",
    "       'Tech', 'Sport Sand Toys', 'Wellness and Beauty',\n",
    "       'Hyper', 'Fashion', 'Home', 'Contents',\n",
    "       'Travel', 'Leisure']"
   ]
  },
  {
   "cell_type": "code",
   "execution_count": 241,
   "id": "7124f7fc",
   "metadata": {},
   "outputs": [],
   "source": [
    "category['code'] = [12,  4,  9,  3,  6,  0, 11, 10, 14,  7,  2,  5,  1, 13,  8]"
   ]
  },
  {
   "cell_type": "code",
   "execution_count": 242,
   "id": "c4c0026c",
   "metadata": {},
   "outputs": [
    {
     "data": {
      "text/html": [
       "<div>\n",
       "<style scoped>\n",
       "    .dataframe tbody tr th:only-of-type {\n",
       "        vertical-align: middle;\n",
       "    }\n",
       "\n",
       "    .dataframe tbody tr th {\n",
       "        vertical-align: top;\n",
       "    }\n",
       "\n",
       "    .dataframe thead th {\n",
       "        text-align: right;\n",
       "    }\n",
       "</style>\n",
       "<table border=\"1\" class=\"dataframe\">\n",
       "  <thead>\n",
       "    <tr style=\"text-align: right;\">\n",
       "      <th></th>\n",
       "      <th>cat</th>\n",
       "      <th>code</th>\n",
       "    </tr>\n",
       "  </thead>\n",
       "  <tbody>\n",
       "    <tr>\n",
       "      <th>0</th>\n",
       "      <td>Transportation</td>\n",
       "      <td>12</td>\n",
       "    </tr>\n",
       "    <tr>\n",
       "      <th>1</th>\n",
       "      <td>Health</td>\n",
       "      <td>4</td>\n",
       "    </tr>\n",
       "    <tr>\n",
       "      <th>2</th>\n",
       "      <td>Other services</td>\n",
       "      <td>9</td>\n",
       "    </tr>\n",
       "    <tr>\n",
       "      <th>3</th>\n",
       "      <td>Food</td>\n",
       "      <td>3</td>\n",
       "    </tr>\n",
       "    <tr>\n",
       "      <th>4</th>\n",
       "      <td>Hotel services</td>\n",
       "      <td>6</td>\n",
       "    </tr>\n",
       "    <tr>\n",
       "      <th>5</th>\n",
       "      <td>Bars and Restaurants</td>\n",
       "      <td>0</td>\n",
       "    </tr>\n",
       "    <tr>\n",
       "      <th>6</th>\n",
       "      <td>Tech</td>\n",
       "      <td>11</td>\n",
       "    </tr>\n",
       "    <tr>\n",
       "      <th>7</th>\n",
       "      <td>Sport Sand Toys</td>\n",
       "      <td>10</td>\n",
       "    </tr>\n",
       "    <tr>\n",
       "      <th>8</th>\n",
       "      <td>Wellness and Beauty</td>\n",
       "      <td>14</td>\n",
       "    </tr>\n",
       "    <tr>\n",
       "      <th>9</th>\n",
       "      <td>Hyper</td>\n",
       "      <td>7</td>\n",
       "    </tr>\n",
       "    <tr>\n",
       "      <th>10</th>\n",
       "      <td>Fashion</td>\n",
       "      <td>2</td>\n",
       "    </tr>\n",
       "    <tr>\n",
       "      <th>11</th>\n",
       "      <td>Home</td>\n",
       "      <td>5</td>\n",
       "    </tr>\n",
       "    <tr>\n",
       "      <th>12</th>\n",
       "      <td>Contents</td>\n",
       "      <td>1</td>\n",
       "    </tr>\n",
       "    <tr>\n",
       "      <th>13</th>\n",
       "      <td>Travel</td>\n",
       "      <td>13</td>\n",
       "    </tr>\n",
       "    <tr>\n",
       "      <th>14</th>\n",
       "      <td>Leisure</td>\n",
       "      <td>8</td>\n",
       "    </tr>\n",
       "  </tbody>\n",
       "</table>\n",
       "</div>"
      ],
      "text/plain": [
       "                     cat  code\n",
       "0         Transportation    12\n",
       "1                 Health     4\n",
       "2         Other services     9\n",
       "3                   Food     3\n",
       "4         Hotel services     6\n",
       "5   Bars and Restaurants     0\n",
       "6                   Tech    11\n",
       "7        Sport Sand Toys    10\n",
       "8    Wellness and Beauty    14\n",
       "9                  Hyper     7\n",
       "10               Fashion     2\n",
       "11                  Home     5\n",
       "12              Contents     1\n",
       "13                Travel    13\n",
       "14               Leisure     8"
      ]
     },
     "execution_count": 242,
     "metadata": {},
     "output_type": "execute_result"
    }
   ],
   "source": [
    "category"
   ]
  },
  {
   "cell_type": "code",
   "execution_count": 243,
   "id": "e83f5ce4",
   "metadata": {},
   "outputs": [],
   "source": [
    "category = pd.Series(category['code'].values, index=category['cat']).to_dict()"
   ]
  },
  {
   "cell_type": "code",
   "execution_count": 244,
   "id": "719868ae",
   "metadata": {
    "collapsed": true
   },
   "outputs": [
    {
     "data": {
      "text/plain": [
       "{'Transportation': 12,\n",
       " 'Health': 4,\n",
       " 'Other services': 9,\n",
       " 'Food': 3,\n",
       " 'Hotel services': 6,\n",
       " 'Bars and Restaurants': 0,\n",
       " 'Tech': 11,\n",
       " 'Sport Sand Toys': 10,\n",
       " 'Wellness and Beauty': 14,\n",
       " 'Hyper': 7,\n",
       " 'Fashion': 2,\n",
       " 'Home': 5,\n",
       " 'Contents': 1,\n",
       " 'Travel': 13,\n",
       " 'Leisure': 8}"
      ]
     },
     "execution_count": 244,
     "metadata": {},
     "output_type": "execute_result"
    }
   ],
   "source": [
    "category"
   ]
  },
  {
   "cell_type": "code",
   "execution_count": 246,
   "id": "251b8e3c",
   "metadata": {},
   "outputs": [],
   "source": [
    "category = pd.DataFrame(category,index=range(0,14))"
   ]
  },
  {
   "cell_type": "code",
   "execution_count": 250,
   "id": "c68c9c9d",
   "metadata": {},
   "outputs": [],
   "source": [
    "category = category[:1]"
   ]
  },
  {
   "cell_type": "code",
   "execution_count": 251,
   "id": "65c9a8e5",
   "metadata": {},
   "outputs": [
    {
     "data": {
      "text/html": [
       "<div>\n",
       "<style scoped>\n",
       "    .dataframe tbody tr th:only-of-type {\n",
       "        vertical-align: middle;\n",
       "    }\n",
       "\n",
       "    .dataframe tbody tr th {\n",
       "        vertical-align: top;\n",
       "    }\n",
       "\n",
       "    .dataframe thead th {\n",
       "        text-align: right;\n",
       "    }\n",
       "</style>\n",
       "<table border=\"1\" class=\"dataframe\">\n",
       "  <thead>\n",
       "    <tr style=\"text-align: right;\">\n",
       "      <th></th>\n",
       "      <th>M348934600</th>\n",
       "      <th>M1823072687</th>\n",
       "      <th>M50039827</th>\n",
       "      <th>M1888755466</th>\n",
       "      <th>M1053599405</th>\n",
       "      <th>M85975013</th>\n",
       "      <th>M480139044</th>\n",
       "      <th>M692898500</th>\n",
       "      <th>M348875670</th>\n",
       "      <th>M151143676</th>\n",
       "      <th>...</th>\n",
       "      <th>M1400236507</th>\n",
       "      <th>M1294758098</th>\n",
       "      <th>M1913465890</th>\n",
       "      <th>M45060432</th>\n",
       "      <th>M78078399</th>\n",
       "      <th>M2080407379</th>\n",
       "      <th>M1788569036</th>\n",
       "      <th>M1416436880</th>\n",
       "      <th>M933210764</th>\n",
       "      <th>M1726401631</th>\n",
       "    </tr>\n",
       "  </thead>\n",
       "  <tbody>\n",
       "    <tr>\n",
       "      <th>0</th>\n",
       "      <td>30</td>\n",
       "      <td>18</td>\n",
       "      <td>36</td>\n",
       "      <td>22</td>\n",
       "      <td>0</td>\n",
       "      <td>45</td>\n",
       "      <td>34</td>\n",
       "      <td>39</td>\n",
       "      <td>29</td>\n",
       "      <td>9</td>\n",
       "      <td>...</td>\n",
       "      <td>7</td>\n",
       "      <td>3</td>\n",
       "      <td>23</td>\n",
       "      <td>33</td>\n",
       "      <td>41</td>\n",
       "      <td>26</td>\n",
       "      <td>17</td>\n",
       "      <td>8</td>\n",
       "      <td>47</td>\n",
       "      <td>13</td>\n",
       "    </tr>\n",
       "  </tbody>\n",
       "</table>\n",
       "<p>1 rows × 50 columns</p>\n",
       "</div>"
      ],
      "text/plain": [
       "   M348934600  M1823072687  M50039827  M1888755466  M1053599405  M85975013  \\\n",
       "0          30           18         36           22            0         45   \n",
       "\n",
       "   M480139044  M692898500  M348875670  M151143676  ...  M1400236507  \\\n",
       "0          34          39          29           9  ...            7   \n",
       "\n",
       "   M1294758098  M1913465890  M45060432  M78078399  M2080407379  M1788569036  \\\n",
       "0            3           23         33         41           26           17   \n",
       "\n",
       "   M1416436880  M933210764  M1726401631  \n",
       "0            8          47           13  \n",
       "\n",
       "[1 rows x 50 columns]"
      ]
     },
     "execution_count": 251,
     "metadata": {},
     "output_type": "execute_result"
    }
   ],
   "source": [
    "merchant"
   ]
  },
  {
   "cell_type": "code",
   "execution_count": 252,
   "id": "0edae411",
   "metadata": {},
   "outputs": [],
   "source": [
    "category.to_csv('category_codes.csv', index=False)\n",
    "merchant.to_csv('merchant_codes.csv', index = False)\n",
    "age.to_csv('age_codes.csv', index = False)\n",
    "gender.to_csv('gender_codes.csv', index=False)"
   ]
  },
  {
   "cell_type": "code",
   "execution_count": null,
   "id": "cb28e3a9",
   "metadata": {},
   "outputs": [],
   "source": []
  }
 ],
 "metadata": {
  "kernelspec": {
   "display_name": "Python 3 (ipykernel)",
   "language": "python",
   "name": "python3"
  },
  "language_info": {
   "codemirror_mode": {
    "name": "ipython",
    "version": 3
   },
   "file_extension": ".py",
   "mimetype": "text/x-python",
   "name": "python",
   "nbconvert_exporter": "python",
   "pygments_lexer": "ipython3",
   "version": "3.9.7"
  }
 },
 "nbformat": 4,
 "nbformat_minor": 5
}
